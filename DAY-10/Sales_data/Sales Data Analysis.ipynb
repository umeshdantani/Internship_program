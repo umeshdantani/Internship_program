{
 "cells": [
  {
   "cell_type": "markdown",
   "id": "107fe965",
   "metadata": {},
   "source": [
    "# <center> Import Libraries </center> "
   ]
  },
  {
   "cell_type": "code",
   "execution_count": 244,
   "id": "7d861f66",
   "metadata": {},
   "outputs": [],
   "source": [
    "import numpy as np \n",
    "import pandas as pd \n",
    "import matplotlib.pyplot as plt\n",
    "import seaborn as sns\n",
    "import re\n",
    "import warnings\n",
    "warnings.filterwarnings('ignore')\n",
    "from statsmodels.graphics.gofplots import qqplot\n",
    "from IPython.core.interactiveshell import InteractiveShell"
   ]
  },
  {
   "cell_type": "markdown",
   "id": "0f48b3ba",
   "metadata": {},
   "source": [
    "# <center> Reading Dataset </center>"
   ]
  },
  {
   "cell_type": "code",
   "execution_count": 245,
   "id": "05ee5872",
   "metadata": {},
   "outputs": [
    {
     "data": {
      "text/html": [
       "<div>\n",
       "<style scoped>\n",
       "    .dataframe tbody tr th:only-of-type {\n",
       "        vertical-align: middle;\n",
       "    }\n",
       "\n",
       "    .dataframe tbody tr th {\n",
       "        vertical-align: top;\n",
       "    }\n",
       "\n",
       "    .dataframe thead th {\n",
       "        text-align: right;\n",
       "    }\n",
       "</style>\n",
       "<table border=\"1\" class=\"dataframe\">\n",
       "  <thead>\n",
       "    <tr style=\"text-align: right;\">\n",
       "      <th></th>\n",
       "      <th>Order ID</th>\n",
       "      <th>Product</th>\n",
       "      <th>Quantity Ordered</th>\n",
       "      <th>Price Each</th>\n",
       "      <th>Order Date</th>\n",
       "      <th>Purchase Address</th>\n",
       "    </tr>\n",
       "  </thead>\n",
       "  <tbody>\n",
       "    <tr>\n",
       "      <th>0</th>\n",
       "      <td>236670</td>\n",
       "      <td>Wired Headphones</td>\n",
       "      <td>2</td>\n",
       "      <td>11.99</td>\n",
       "      <td>08/31/19 22:21</td>\n",
       "      <td>359 Spruce St, Seattle, WA 98101</td>\n",
       "    </tr>\n",
       "    <tr>\n",
       "      <th>1</th>\n",
       "      <td>236671</td>\n",
       "      <td>Bose SoundSport Headphones</td>\n",
       "      <td>1</td>\n",
       "      <td>99.99</td>\n",
       "      <td>08/15/19 15:11</td>\n",
       "      <td>492 Ridge St, Dallas, TX 75001</td>\n",
       "    </tr>\n",
       "    <tr>\n",
       "      <th>2</th>\n",
       "      <td>236672</td>\n",
       "      <td>iPhone</td>\n",
       "      <td>1</td>\n",
       "      <td>700.0</td>\n",
       "      <td>08/06/19 14:40</td>\n",
       "      <td>149 7th St, Portland, OR 97035</td>\n",
       "    </tr>\n",
       "    <tr>\n",
       "      <th>3</th>\n",
       "      <td>236673</td>\n",
       "      <td>AA Batteries (4-pack)</td>\n",
       "      <td>2</td>\n",
       "      <td>3.84</td>\n",
       "      <td>08/29/19 20:59</td>\n",
       "      <td>631 2nd St, Los Angeles, CA 90001</td>\n",
       "    </tr>\n",
       "    <tr>\n",
       "      <th>4</th>\n",
       "      <td>236674</td>\n",
       "      <td>AA Batteries (4-pack)</td>\n",
       "      <td>2</td>\n",
       "      <td>3.84</td>\n",
       "      <td>08/15/19 19:53</td>\n",
       "      <td>736 14th St, New York City, NY 10001</td>\n",
       "    </tr>\n",
       "    <tr>\n",
       "      <th>...</th>\n",
       "      <td>...</td>\n",
       "      <td>...</td>\n",
       "      <td>...</td>\n",
       "      <td>...</td>\n",
       "      <td>...</td>\n",
       "      <td>...</td>\n",
       "    </tr>\n",
       "    <tr>\n",
       "      <th>186845</th>\n",
       "      <td>319666</td>\n",
       "      <td>Lightning Charging Cable</td>\n",
       "      <td>1</td>\n",
       "      <td>14.95</td>\n",
       "      <td>12/11/19 20:58</td>\n",
       "      <td>14 Madison St, San Francisco, CA 94016</td>\n",
       "    </tr>\n",
       "    <tr>\n",
       "      <th>186846</th>\n",
       "      <td>319667</td>\n",
       "      <td>AA Batteries (4-pack)</td>\n",
       "      <td>2</td>\n",
       "      <td>3.84</td>\n",
       "      <td>12/01/19 12:01</td>\n",
       "      <td>549 Willow St, Los Angeles, CA 90001</td>\n",
       "    </tr>\n",
       "    <tr>\n",
       "      <th>186847</th>\n",
       "      <td>319668</td>\n",
       "      <td>Vareebadd Phone</td>\n",
       "      <td>1</td>\n",
       "      <td>400</td>\n",
       "      <td>12/09/19 06:43</td>\n",
       "      <td>273 Wilson St, Seattle, WA 98101</td>\n",
       "    </tr>\n",
       "    <tr>\n",
       "      <th>186848</th>\n",
       "      <td>319669</td>\n",
       "      <td>Wired Headphones</td>\n",
       "      <td>1</td>\n",
       "      <td>11.99</td>\n",
       "      <td>12/03/19 10:39</td>\n",
       "      <td>778 River St, Dallas, TX 75001</td>\n",
       "    </tr>\n",
       "    <tr>\n",
       "      <th>186849</th>\n",
       "      <td>319670</td>\n",
       "      <td>Bose SoundSport Headphones</td>\n",
       "      <td>1</td>\n",
       "      <td>99.99</td>\n",
       "      <td>12/21/19 21:45</td>\n",
       "      <td>747 Chestnut St, Los Angeles, CA 90001</td>\n",
       "    </tr>\n",
       "  </tbody>\n",
       "</table>\n",
       "<p>186850 rows × 6 columns</p>\n",
       "</div>"
      ],
      "text/plain": [
       "       Order ID                     Product Quantity Ordered Price Each  \\\n",
       "0        236670            Wired Headphones                2      11.99   \n",
       "1        236671  Bose SoundSport Headphones                1      99.99   \n",
       "2        236672                      iPhone                1      700.0   \n",
       "3        236673       AA Batteries (4-pack)                2       3.84   \n",
       "4        236674       AA Batteries (4-pack)                2       3.84   \n",
       "...         ...                         ...              ...        ...   \n",
       "186845   319666    Lightning Charging Cable                1      14.95   \n",
       "186846   319667       AA Batteries (4-pack)                2       3.84   \n",
       "186847   319668             Vareebadd Phone                1        400   \n",
       "186848   319669            Wired Headphones                1      11.99   \n",
       "186849   319670  Bose SoundSport Headphones                1      99.99   \n",
       "\n",
       "            Order Date                        Purchase Address  \n",
       "0       08/31/19 22:21        359 Spruce St, Seattle, WA 98101  \n",
       "1       08/15/19 15:11          492 Ridge St, Dallas, TX 75001  \n",
       "2       08/06/19 14:40          149 7th St, Portland, OR 97035  \n",
       "3       08/29/19 20:59       631 2nd St, Los Angeles, CA 90001  \n",
       "4       08/15/19 19:53    736 14th St, New York City, NY 10001  \n",
       "...                ...                                     ...  \n",
       "186845  12/11/19 20:58  14 Madison St, San Francisco, CA 94016  \n",
       "186846  12/01/19 12:01    549 Willow St, Los Angeles, CA 90001  \n",
       "186847  12/09/19 06:43        273 Wilson St, Seattle, WA 98101  \n",
       "186848  12/03/19 10:39          778 River St, Dallas, TX 75001  \n",
       "186849  12/21/19 21:45  747 Chestnut St, Los Angeles, CA 90001  \n",
       "\n",
       "[186850 rows x 6 columns]"
      ]
     },
     "execution_count": 245,
     "metadata": {},
     "output_type": "execute_result"
    }
   ],
   "source": [
    "sales_data = pd.read_csv('all_data.csv') \n",
    "sales_data"
   ]
  },
  {
   "cell_type": "code",
   "execution_count": 246,
   "id": "08919dc0",
   "metadata": {},
   "outputs": [
    {
     "name": "stdout",
     "output_type": "stream",
     "text": [
      "<class 'pandas.core.frame.DataFrame'>\n",
      "RangeIndex: 186850 entries, 0 to 186849\n",
      "Data columns (total 6 columns):\n",
      " #   Column            Non-Null Count   Dtype \n",
      "---  ------            --------------   ----- \n",
      " 0   Order ID          186305 non-null  object\n",
      " 1   Product           186305 non-null  object\n",
      " 2   Quantity Ordered  186305 non-null  object\n",
      " 3   Price Each        186305 non-null  object\n",
      " 4   Order Date        186305 non-null  object\n",
      " 5   Purchase Address  186305 non-null  object\n",
      "dtypes: object(6)\n",
      "memory usage: 8.6+ MB\n"
     ]
    }
   ],
   "source": [
    "sales_data.info()"
   ]
  },
  {
   "cell_type": "code",
   "execution_count": 247,
   "id": "c59c679f",
   "metadata": {},
   "outputs": [
    {
     "data": {
      "text/html": [
       "<div>\n",
       "<style scoped>\n",
       "    .dataframe tbody tr th:only-of-type {\n",
       "        vertical-align: middle;\n",
       "    }\n",
       "\n",
       "    .dataframe tbody tr th {\n",
       "        vertical-align: top;\n",
       "    }\n",
       "\n",
       "    .dataframe thead th {\n",
       "        text-align: right;\n",
       "    }\n",
       "</style>\n",
       "<table border=\"1\" class=\"dataframe\">\n",
       "  <thead>\n",
       "    <tr style=\"text-align: right;\">\n",
       "      <th></th>\n",
       "      <th>Order ID</th>\n",
       "      <th>Product</th>\n",
       "      <th>Quantity Ordered</th>\n",
       "      <th>Price Each</th>\n",
       "      <th>Order Date</th>\n",
       "      <th>Purchase Address</th>\n",
       "    </tr>\n",
       "  </thead>\n",
       "  <tbody>\n",
       "    <tr>\n",
       "      <th>count</th>\n",
       "      <td>186305</td>\n",
       "      <td>186305</td>\n",
       "      <td>186305</td>\n",
       "      <td>186305</td>\n",
       "      <td>186305</td>\n",
       "      <td>186305</td>\n",
       "    </tr>\n",
       "    <tr>\n",
       "      <th>unique</th>\n",
       "      <td>178438</td>\n",
       "      <td>20</td>\n",
       "      <td>10</td>\n",
       "      <td>24</td>\n",
       "      <td>142396</td>\n",
       "      <td>140788</td>\n",
       "    </tr>\n",
       "    <tr>\n",
       "      <th>top</th>\n",
       "      <td>Order ID</td>\n",
       "      <td>USB-C Charging Cable</td>\n",
       "      <td>1</td>\n",
       "      <td>11.95</td>\n",
       "      <td>Order Date</td>\n",
       "      <td>Purchase Address</td>\n",
       "    </tr>\n",
       "    <tr>\n",
       "      <th>freq</th>\n",
       "      <td>355</td>\n",
       "      <td>21903</td>\n",
       "      <td>168552</td>\n",
       "      <td>21903</td>\n",
       "      <td>355</td>\n",
       "      <td>355</td>\n",
       "    </tr>\n",
       "  </tbody>\n",
       "</table>\n",
       "</div>"
      ],
      "text/plain": [
       "        Order ID               Product Quantity Ordered Price Each  \\\n",
       "count     186305                186305           186305     186305   \n",
       "unique    178438                    20               10         24   \n",
       "top     Order ID  USB-C Charging Cable                1      11.95   \n",
       "freq         355                 21903           168552      21903   \n",
       "\n",
       "        Order Date  Purchase Address  \n",
       "count       186305            186305  \n",
       "unique      142396            140788  \n",
       "top     Order Date  Purchase Address  \n",
       "freq           355               355  "
      ]
     },
     "execution_count": 247,
     "metadata": {},
     "output_type": "execute_result"
    }
   ],
   "source": [
    "sales_data.describe()"
   ]
  },
  {
   "cell_type": "code",
   "execution_count": 248,
   "id": "5373e22d",
   "metadata": {},
   "outputs": [
    {
     "data": {
      "text/plain": [
       "(186850, 6)"
      ]
     },
     "execution_count": 248,
     "metadata": {},
     "output_type": "execute_result"
    }
   ],
   "source": [
    "sales_data.shape"
   ]
  },
  {
   "cell_type": "code",
   "execution_count": 249,
   "id": "d4f7b20d",
   "metadata": {},
   "outputs": [
    {
     "data": {
      "text/plain": [
       "Order ID            545\n",
       "Product             545\n",
       "Quantity Ordered    545\n",
       "Price Each          545\n",
       "Order Date          545\n",
       "Purchase Address    545\n",
       "dtype: int64"
      ]
     },
     "execution_count": 249,
     "metadata": {},
     "output_type": "execute_result"
    }
   ],
   "source": [
    "# check a missing/null value\n",
    "sales_data.isnull().sum()"
   ]
  },
  {
   "cell_type": "code",
   "execution_count": 250,
   "id": "032260ff",
   "metadata": {},
   "outputs": [
    {
     "data": {
      "text/html": [
       "<div>\n",
       "<style scoped>\n",
       "    .dataframe tbody tr th:only-of-type {\n",
       "        vertical-align: middle;\n",
       "    }\n",
       "\n",
       "    .dataframe tbody tr th {\n",
       "        vertical-align: top;\n",
       "    }\n",
       "\n",
       "    .dataframe thead th {\n",
       "        text-align: right;\n",
       "    }\n",
       "</style>\n",
       "<table border=\"1\" class=\"dataframe\">\n",
       "  <thead>\n",
       "    <tr style=\"text-align: right;\">\n",
       "      <th></th>\n",
       "      <th>Order ID</th>\n",
       "      <th>Product</th>\n",
       "      <th>Qty</th>\n",
       "      <th>Price</th>\n",
       "      <th>Order Date</th>\n",
       "      <th>Purchase Address</th>\n",
       "    </tr>\n",
       "  </thead>\n",
       "  <tbody>\n",
       "    <tr>\n",
       "      <th>0</th>\n",
       "      <td>236670</td>\n",
       "      <td>Wired Headphones</td>\n",
       "      <td>2</td>\n",
       "      <td>11.99</td>\n",
       "      <td>08/31/19 22:21</td>\n",
       "      <td>359 Spruce St, Seattle, WA 98101</td>\n",
       "    </tr>\n",
       "    <tr>\n",
       "      <th>1</th>\n",
       "      <td>236671</td>\n",
       "      <td>Bose SoundSport Headphones</td>\n",
       "      <td>1</td>\n",
       "      <td>99.99</td>\n",
       "      <td>08/15/19 15:11</td>\n",
       "      <td>492 Ridge St, Dallas, TX 75001</td>\n",
       "    </tr>\n",
       "    <tr>\n",
       "      <th>2</th>\n",
       "      <td>236672</td>\n",
       "      <td>iPhone</td>\n",
       "      <td>1</td>\n",
       "      <td>700.0</td>\n",
       "      <td>08/06/19 14:40</td>\n",
       "      <td>149 7th St, Portland, OR 97035</td>\n",
       "    </tr>\n",
       "    <tr>\n",
       "      <th>3</th>\n",
       "      <td>236673</td>\n",
       "      <td>AA Batteries (4-pack)</td>\n",
       "      <td>2</td>\n",
       "      <td>3.84</td>\n",
       "      <td>08/29/19 20:59</td>\n",
       "      <td>631 2nd St, Los Angeles, CA 90001</td>\n",
       "    </tr>\n",
       "    <tr>\n",
       "      <th>4</th>\n",
       "      <td>236674</td>\n",
       "      <td>AA Batteries (4-pack)</td>\n",
       "      <td>2</td>\n",
       "      <td>3.84</td>\n",
       "      <td>08/15/19 19:53</td>\n",
       "      <td>736 14th St, New York City, NY 10001</td>\n",
       "    </tr>\n",
       "  </tbody>\n",
       "</table>\n",
       "</div>"
      ],
      "text/plain": [
       "  Order ID                     Product Qty  Price      Order Date  \\\n",
       "0   236670            Wired Headphones   2  11.99  08/31/19 22:21   \n",
       "1   236671  Bose SoundSport Headphones   1  99.99  08/15/19 15:11   \n",
       "2   236672                      iPhone   1  700.0  08/06/19 14:40   \n",
       "3   236673       AA Batteries (4-pack)   2   3.84  08/29/19 20:59   \n",
       "4   236674       AA Batteries (4-pack)   2   3.84  08/15/19 19:53   \n",
       "\n",
       "                       Purchase Address  \n",
       "0      359 Spruce St, Seattle, WA 98101  \n",
       "1        492 Ridge St, Dallas, TX 75001  \n",
       "2        149 7th St, Portland, OR 97035  \n",
       "3     631 2nd St, Los Angeles, CA 90001  \n",
       "4  736 14th St, New York City, NY 10001  "
      ]
     },
     "execution_count": 250,
     "metadata": {},
     "output_type": "execute_result"
    }
   ],
   "source": [
    "sales_data = sales_data.rename(mapper=str.strip, axis='columns') #strip in case there is one or more space remove\n",
    "sales_data = sales_data.rename(columns={'Quantity Ordered': 'Qty','Price Each':'Price'})\n",
    "\n",
    "sales_data.head()"
   ]
  },
  {
   "cell_type": "code",
   "execution_count": 251,
   "id": "d30da4c0",
   "metadata": {},
   "outputs": [
    {
     "data": {
      "text/html": [
       "<div>\n",
       "<style scoped>\n",
       "    .dataframe tbody tr th:only-of-type {\n",
       "        vertical-align: middle;\n",
       "    }\n",
       "\n",
       "    .dataframe tbody tr th {\n",
       "        vertical-align: top;\n",
       "    }\n",
       "\n",
       "    .dataframe thead th {\n",
       "        text-align: right;\n",
       "    }\n",
       "</style>\n",
       "<table border=\"1\" class=\"dataframe\">\n",
       "  <thead>\n",
       "    <tr style=\"text-align: right;\">\n",
       "      <th></th>\n",
       "      <th>Order ID</th>\n",
       "      <th>Product</th>\n",
       "      <th>Qty</th>\n",
       "      <th>Price</th>\n",
       "      <th>Order Date</th>\n",
       "      <th>Purchase Address</th>\n",
       "    </tr>\n",
       "  </thead>\n",
       "  <tbody>\n",
       "    <tr>\n",
       "      <th>186845</th>\n",
       "      <td>319666</td>\n",
       "      <td>Lightning Charging Cable</td>\n",
       "      <td>1</td>\n",
       "      <td>14.95</td>\n",
       "      <td>12/11/19 20:58</td>\n",
       "      <td>14 Madison St, San Francisco, CA 94016</td>\n",
       "    </tr>\n",
       "    <tr>\n",
       "      <th>186846</th>\n",
       "      <td>319667</td>\n",
       "      <td>AA Batteries (4-pack)</td>\n",
       "      <td>2</td>\n",
       "      <td>3.84</td>\n",
       "      <td>12/01/19 12:01</td>\n",
       "      <td>549 Willow St, Los Angeles, CA 90001</td>\n",
       "    </tr>\n",
       "    <tr>\n",
       "      <th>186847</th>\n",
       "      <td>319668</td>\n",
       "      <td>Vareebadd Phone</td>\n",
       "      <td>1</td>\n",
       "      <td>400</td>\n",
       "      <td>12/09/19 06:43</td>\n",
       "      <td>273 Wilson St, Seattle, WA 98101</td>\n",
       "    </tr>\n",
       "    <tr>\n",
       "      <th>186848</th>\n",
       "      <td>319669</td>\n",
       "      <td>Wired Headphones</td>\n",
       "      <td>1</td>\n",
       "      <td>11.99</td>\n",
       "      <td>12/03/19 10:39</td>\n",
       "      <td>778 River St, Dallas, TX 75001</td>\n",
       "    </tr>\n",
       "    <tr>\n",
       "      <th>186849</th>\n",
       "      <td>319670</td>\n",
       "      <td>Bose SoundSport Headphones</td>\n",
       "      <td>1</td>\n",
       "      <td>99.99</td>\n",
       "      <td>12/21/19 21:45</td>\n",
       "      <td>747 Chestnut St, Los Angeles, CA 90001</td>\n",
       "    </tr>\n",
       "  </tbody>\n",
       "</table>\n",
       "</div>"
      ],
      "text/plain": [
       "       Order ID                     Product Qty  Price      Order Date  \\\n",
       "186845   319666    Lightning Charging Cable   1  14.95  12/11/19 20:58   \n",
       "186846   319667       AA Batteries (4-pack)   2   3.84  12/01/19 12:01   \n",
       "186847   319668             Vareebadd Phone   1    400  12/09/19 06:43   \n",
       "186848   319669            Wired Headphones   1  11.99  12/03/19 10:39   \n",
       "186849   319670  Bose SoundSport Headphones   1  99.99  12/21/19 21:45   \n",
       "\n",
       "                              Purchase Address  \n",
       "186845  14 Madison St, San Francisco, CA 94016  \n",
       "186846    549 Willow St, Los Angeles, CA 90001  \n",
       "186847        273 Wilson St, Seattle, WA 98101  \n",
       "186848          778 River St, Dallas, TX 75001  \n",
       "186849  747 Chestnut St, Los Angeles, CA 90001  "
      ]
     },
     "execution_count": 251,
     "metadata": {},
     "output_type": "execute_result"
    }
   ],
   "source": [
    "sales_data.tail()"
   ]
  },
  {
   "cell_type": "code",
   "execution_count": 252,
   "id": "c1157562",
   "metadata": {},
   "outputs": [
    {
     "data": {
      "text/plain": [
       "Index(['Order ID', 'Product', 'Qty', 'Price', 'Order Date',\n",
       "       'Purchase Address'],\n",
       "      dtype='object')"
      ]
     },
     "execution_count": 252,
     "metadata": {},
     "output_type": "execute_result"
    }
   ],
   "source": [
    "sales_data.columns"
   ]
  },
  {
   "cell_type": "code",
   "execution_count": 253,
   "id": "9c059ad3",
   "metadata": {},
   "outputs": [
    {
     "data": {
      "text/html": [
       "<div>\n",
       "<style scoped>\n",
       "    .dataframe tbody tr th:only-of-type {\n",
       "        vertical-align: middle;\n",
       "    }\n",
       "\n",
       "    .dataframe tbody tr th {\n",
       "        vertical-align: top;\n",
       "    }\n",
       "\n",
       "    .dataframe thead th {\n",
       "        text-align: right;\n",
       "    }\n",
       "</style>\n",
       "<table border=\"1\" class=\"dataframe\">\n",
       "  <thead>\n",
       "    <tr style=\"text-align: right;\">\n",
       "      <th></th>\n",
       "      <th>order id</th>\n",
       "      <th>product</th>\n",
       "      <th>qty</th>\n",
       "      <th>price</th>\n",
       "      <th>order date</th>\n",
       "      <th>purchase address</th>\n",
       "    </tr>\n",
       "  </thead>\n",
       "  <tbody>\n",
       "    <tr>\n",
       "      <th>0</th>\n",
       "      <td>236670</td>\n",
       "      <td>Wired Headphones</td>\n",
       "      <td>2</td>\n",
       "      <td>11.99</td>\n",
       "      <td>08/31/19 22:21</td>\n",
       "      <td>359 Spruce St, Seattle, WA 98101</td>\n",
       "    </tr>\n",
       "    <tr>\n",
       "      <th>1</th>\n",
       "      <td>236671</td>\n",
       "      <td>Bose SoundSport Headphones</td>\n",
       "      <td>1</td>\n",
       "      <td>99.99</td>\n",
       "      <td>08/15/19 15:11</td>\n",
       "      <td>492 Ridge St, Dallas, TX 75001</td>\n",
       "    </tr>\n",
       "    <tr>\n",
       "      <th>2</th>\n",
       "      <td>236672</td>\n",
       "      <td>iPhone</td>\n",
       "      <td>1</td>\n",
       "      <td>700.0</td>\n",
       "      <td>08/06/19 14:40</td>\n",
       "      <td>149 7th St, Portland, OR 97035</td>\n",
       "    </tr>\n",
       "    <tr>\n",
       "      <th>3</th>\n",
       "      <td>236673</td>\n",
       "      <td>AA Batteries (4-pack)</td>\n",
       "      <td>2</td>\n",
       "      <td>3.84</td>\n",
       "      <td>08/29/19 20:59</td>\n",
       "      <td>631 2nd St, Los Angeles, CA 90001</td>\n",
       "    </tr>\n",
       "    <tr>\n",
       "      <th>4</th>\n",
       "      <td>236674</td>\n",
       "      <td>AA Batteries (4-pack)</td>\n",
       "      <td>2</td>\n",
       "      <td>3.84</td>\n",
       "      <td>08/15/19 19:53</td>\n",
       "      <td>736 14th St, New York City, NY 10001</td>\n",
       "    </tr>\n",
       "  </tbody>\n",
       "</table>\n",
       "</div>"
      ],
      "text/plain": [
       "  order id                     product qty  price      order date  \\\n",
       "0   236670            Wired Headphones   2  11.99  08/31/19 22:21   \n",
       "1   236671  Bose SoundSport Headphones   1  99.99  08/15/19 15:11   \n",
       "2   236672                      iPhone   1  700.0  08/06/19 14:40   \n",
       "3   236673       AA Batteries (4-pack)   2   3.84  08/29/19 20:59   \n",
       "4   236674       AA Batteries (4-pack)   2   3.84  08/15/19 19:53   \n",
       "\n",
       "                       purchase address  \n",
       "0      359 Spruce St, Seattle, WA 98101  \n",
       "1        492 Ridge St, Dallas, TX 75001  \n",
       "2        149 7th St, Portland, OR 97035  \n",
       "3     631 2nd St, Los Angeles, CA 90001  \n",
       "4  736 14th St, New York City, NY 10001  "
      ]
     },
     "execution_count": 253,
     "metadata": {},
     "output_type": "execute_result"
    }
   ],
   "source": [
    "col_name = list(sales_data.columns)\n",
    "col_name = [x.lower().strip() for x in col_name] \n",
    "sales_data.columns = col_name\n",
    "sales_data.head()"
   ]
  },
  {
   "cell_type": "markdown",
   "id": "024a14ec",
   "metadata": {},
   "source": [
    "# <center> Data Cleaning </center> "
   ]
  },
  {
   "cell_type": "code",
   "execution_count": 254,
   "id": "23b3260c",
   "metadata": {},
   "outputs": [
    {
     "data": {
      "text/plain": [
       "order id            545\n",
       "product             545\n",
       "qty                 545\n",
       "price               545\n",
       "order date          545\n",
       "purchase address    545\n",
       "dtype: int64"
      ]
     },
     "execution_count": 254,
     "metadata": {},
     "output_type": "execute_result"
    }
   ],
   "source": [
    "sales_data.isnull().sum()"
   ]
  },
  {
   "cell_type": "code",
   "execution_count": 255,
   "id": "3dbd56c4",
   "metadata": {},
   "outputs": [
    {
     "data": {
      "text/plain": [
       "1162"
      ]
     },
     "execution_count": 255,
     "metadata": {},
     "output_type": "execute_result"
    }
   ],
   "source": [
    "sales_data.duplicated().sum()"
   ]
  },
  {
   "cell_type": "code",
   "execution_count": 256,
   "id": "d0ed74ed",
   "metadata": {},
   "outputs": [
    {
     "data": {
      "text/plain": [
       "order id            0\n",
       "product             0\n",
       "qty                 0\n",
       "price               0\n",
       "order date          0\n",
       "purchase address    0\n",
       "dtype: int64"
      ]
     },
     "execution_count": 256,
     "metadata": {},
     "output_type": "execute_result"
    }
   ],
   "source": [
    "sales_data = sales_data.dropna(how='all')\n",
    "sales_data.isnull().sum()"
   ]
  },
  {
   "cell_type": "code",
   "execution_count": 257,
   "id": "8378aacc",
   "metadata": {},
   "outputs": [
    {
     "data": {
      "text/plain": [
       "618"
      ]
     },
     "execution_count": 257,
     "metadata": {},
     "output_type": "execute_result"
    }
   ],
   "source": [
    "sales_data.duplicated().sum()"
   ]
  },
  {
   "cell_type": "code",
   "execution_count": 258,
   "id": "6c634a58",
   "metadata": {},
   "outputs": [
    {
     "data": {
      "text/html": [
       "<div>\n",
       "<style scoped>\n",
       "    .dataframe tbody tr th:only-of-type {\n",
       "        vertical-align: middle;\n",
       "    }\n",
       "\n",
       "    .dataframe tbody tr th {\n",
       "        vertical-align: top;\n",
       "    }\n",
       "\n",
       "    .dataframe thead th {\n",
       "        text-align: right;\n",
       "    }\n",
       "</style>\n",
       "<table border=\"1\" class=\"dataframe\">\n",
       "  <thead>\n",
       "    <tr style=\"text-align: right;\">\n",
       "      <th></th>\n",
       "      <th>order id</th>\n",
       "      <th>product</th>\n",
       "      <th>qty</th>\n",
       "      <th>price</th>\n",
       "      <th>order date</th>\n",
       "      <th>purchase address</th>\n",
       "    </tr>\n",
       "  </thead>\n",
       "  <tbody>\n",
       "    <tr>\n",
       "      <th>243</th>\n",
       "      <td>Order ID</td>\n",
       "      <td>Product</td>\n",
       "      <td>Quantity Ordered</td>\n",
       "      <td>Price Each</td>\n",
       "      <td>Order Date</td>\n",
       "      <td>Purchase Address</td>\n",
       "    </tr>\n",
       "    <tr>\n",
       "      <th>628</th>\n",
       "      <td>237276</td>\n",
       "      <td>Lightning Charging Cable</td>\n",
       "      <td>1</td>\n",
       "      <td>14.95</td>\n",
       "      <td>08/22/19 10:43</td>\n",
       "      <td>446 2nd St, Boston, MA 02215</td>\n",
       "    </tr>\n",
       "    <tr>\n",
       "      <th>925</th>\n",
       "      <td>237560</td>\n",
       "      <td>USB-C Charging Cable</td>\n",
       "      <td>1</td>\n",
       "      <td>11.95</td>\n",
       "      <td>08/09/19 00:26</td>\n",
       "      <td>397 Lincoln St, San Francisco, CA 94016</td>\n",
       "    </tr>\n",
       "    <tr>\n",
       "      <th>1291</th>\n",
       "      <td>Order ID</td>\n",
       "      <td>Product</td>\n",
       "      <td>Quantity Ordered</td>\n",
       "      <td>Price Each</td>\n",
       "      <td>Order Date</td>\n",
       "      <td>Purchase Address</td>\n",
       "    </tr>\n",
       "    <tr>\n",
       "      <th>1412</th>\n",
       "      <td>Order ID</td>\n",
       "      <td>Product</td>\n",
       "      <td>Quantity Ordered</td>\n",
       "      <td>Price Each</td>\n",
       "      <td>Order Date</td>\n",
       "      <td>Purchase Address</td>\n",
       "    </tr>\n",
       "    <tr>\n",
       "      <th>...</th>\n",
       "      <td>...</td>\n",
       "      <td>...</td>\n",
       "      <td>...</td>\n",
       "      <td>...</td>\n",
       "      <td>...</td>\n",
       "      <td>...</td>\n",
       "    </tr>\n",
       "    <tr>\n",
       "      <th>185070</th>\n",
       "      <td>Order ID</td>\n",
       "      <td>Product</td>\n",
       "      <td>Quantity Ordered</td>\n",
       "      <td>Price Each</td>\n",
       "      <td>Order Date</td>\n",
       "      <td>Purchase Address</td>\n",
       "    </tr>\n",
       "    <tr>\n",
       "      <th>185085</th>\n",
       "      <td>317971</td>\n",
       "      <td>AA Batteries (4-pack)</td>\n",
       "      <td>1</td>\n",
       "      <td>3.84</td>\n",
       "      <td>12/17/19 18:39</td>\n",
       "      <td>250 Chestnut St, San Francisco, CA 94016</td>\n",
       "    </tr>\n",
       "    <tr>\n",
       "      <th>185481</th>\n",
       "      <td>Order ID</td>\n",
       "      <td>Product</td>\n",
       "      <td>Quantity Ordered</td>\n",
       "      <td>Price Each</td>\n",
       "      <td>Order Date</td>\n",
       "      <td>Purchase Address</td>\n",
       "    </tr>\n",
       "    <tr>\n",
       "      <th>185925</th>\n",
       "      <td>Order ID</td>\n",
       "      <td>Product</td>\n",
       "      <td>Quantity Ordered</td>\n",
       "      <td>Price Each</td>\n",
       "      <td>Order Date</td>\n",
       "      <td>Purchase Address</td>\n",
       "    </tr>\n",
       "    <tr>\n",
       "      <th>185955</th>\n",
       "      <td>Order ID</td>\n",
       "      <td>Product</td>\n",
       "      <td>Quantity Ordered</td>\n",
       "      <td>Price Each</td>\n",
       "      <td>Order Date</td>\n",
       "      <td>Purchase Address</td>\n",
       "    </tr>\n",
       "  </tbody>\n",
       "</table>\n",
       "<p>618 rows × 6 columns</p>\n",
       "</div>"
      ],
      "text/plain": [
       "        order id                   product               qty       price  \\\n",
       "243     Order ID                   Product  Quantity Ordered  Price Each   \n",
       "628       237276  Lightning Charging Cable                 1       14.95   \n",
       "925       237560      USB-C Charging Cable                 1       11.95   \n",
       "1291    Order ID                   Product  Quantity Ordered  Price Each   \n",
       "1412    Order ID                   Product  Quantity Ordered  Price Each   \n",
       "...          ...                       ...               ...         ...   \n",
       "185070  Order ID                   Product  Quantity Ordered  Price Each   \n",
       "185085    317971     AA Batteries (4-pack)                 1        3.84   \n",
       "185481  Order ID                   Product  Quantity Ordered  Price Each   \n",
       "185925  Order ID                   Product  Quantity Ordered  Price Each   \n",
       "185955  Order ID                   Product  Quantity Ordered  Price Each   \n",
       "\n",
       "            order date                          purchase address  \n",
       "243         Order Date                          Purchase Address  \n",
       "628     08/22/19 10:43              446 2nd St, Boston, MA 02215  \n",
       "925     08/09/19 00:26   397 Lincoln St, San Francisco, CA 94016  \n",
       "1291        Order Date                          Purchase Address  \n",
       "1412        Order Date                          Purchase Address  \n",
       "...                ...                                       ...  \n",
       "185070      Order Date                          Purchase Address  \n",
       "185085  12/17/19 18:39  250 Chestnut St, San Francisco, CA 94016  \n",
       "185481      Order Date                          Purchase Address  \n",
       "185925      Order Date                          Purchase Address  \n",
       "185955      Order Date                          Purchase Address  \n",
       "\n",
       "[618 rows x 6 columns]"
      ]
     },
     "execution_count": 258,
     "metadata": {},
     "output_type": "execute_result"
    }
   ],
   "source": [
    "sales_data[sales_data.duplicated()==True]"
   ]
  },
  {
   "cell_type": "code",
   "execution_count": 259,
   "id": "6d30623a",
   "metadata": {},
   "outputs": [
    {
     "name": "stdout",
     "output_type": "stream",
     "text": [
      "<class 'pandas.core.frame.DataFrame'>\n",
      "Int64Index: 185687 entries, 0 to 186849\n",
      "Data columns (total 6 columns):\n",
      " #   Column            Non-Null Count   Dtype \n",
      "---  ------            --------------   ----- \n",
      " 0   order id          185687 non-null  object\n",
      " 1   product           185687 non-null  object\n",
      " 2   qty               185687 non-null  object\n",
      " 3   price             185687 non-null  object\n",
      " 4   order date        185687 non-null  object\n",
      " 5   purchase address  185687 non-null  object\n",
      "dtypes: object(6)\n",
      "memory usage: 9.9+ MB\n"
     ]
    }
   ],
   "source": [
    "#drop the duplicated rows\n",
    "clean = sales_data[~ sales_data.duplicated()]\n",
    "clean.info()"
   ]
  },
  {
   "cell_type": "code",
   "execution_count": 260,
   "id": "1e91b24f",
   "metadata": {},
   "outputs": [
    {
     "data": {
      "text/html": [
       "<div>\n",
       "<style scoped>\n",
       "    .dataframe tbody tr th:only-of-type {\n",
       "        vertical-align: middle;\n",
       "    }\n",
       "\n",
       "    .dataframe tbody tr th {\n",
       "        vertical-align: top;\n",
       "    }\n",
       "\n",
       "    .dataframe thead th {\n",
       "        text-align: right;\n",
       "    }\n",
       "</style>\n",
       "<table border=\"1\" class=\"dataframe\">\n",
       "  <thead>\n",
       "    <tr style=\"text-align: right;\">\n",
       "      <th></th>\n",
       "      <th>order id</th>\n",
       "      <th>product</th>\n",
       "      <th>qty</th>\n",
       "      <th>price</th>\n",
       "      <th>order date</th>\n",
       "      <th>purchase address</th>\n",
       "    </tr>\n",
       "  </thead>\n",
       "  <tbody>\n",
       "    <tr>\n",
       "      <th>0</th>\n",
       "      <td>236670</td>\n",
       "      <td>Wired Headphones</td>\n",
       "      <td>2</td>\n",
       "      <td>11.99</td>\n",
       "      <td>08/31/19 22:21</td>\n",
       "      <td>359 Spruce St, Seattle, WA 98101</td>\n",
       "    </tr>\n",
       "    <tr>\n",
       "      <th>1</th>\n",
       "      <td>236671</td>\n",
       "      <td>Bose SoundSport Headphones</td>\n",
       "      <td>1</td>\n",
       "      <td>99.99</td>\n",
       "      <td>08/15/19 15:11</td>\n",
       "      <td>492 Ridge St, Dallas, TX 75001</td>\n",
       "    </tr>\n",
       "    <tr>\n",
       "      <th>2</th>\n",
       "      <td>236672</td>\n",
       "      <td>iPhone</td>\n",
       "      <td>1</td>\n",
       "      <td>700.0</td>\n",
       "      <td>08/06/19 14:40</td>\n",
       "      <td>149 7th St, Portland, OR 97035</td>\n",
       "    </tr>\n",
       "    <tr>\n",
       "      <th>3</th>\n",
       "      <td>236673</td>\n",
       "      <td>AA Batteries (4-pack)</td>\n",
       "      <td>2</td>\n",
       "      <td>3.84</td>\n",
       "      <td>08/29/19 20:59</td>\n",
       "      <td>631 2nd St, Los Angeles, CA 90001</td>\n",
       "    </tr>\n",
       "    <tr>\n",
       "      <th>4</th>\n",
       "      <td>236674</td>\n",
       "      <td>AA Batteries (4-pack)</td>\n",
       "      <td>2</td>\n",
       "      <td>3.84</td>\n",
       "      <td>08/15/19 19:53</td>\n",
       "      <td>736 14th St, New York City, NY 10001</td>\n",
       "    </tr>\n",
       "  </tbody>\n",
       "</table>\n",
       "</div>"
      ],
      "text/plain": [
       "  order id                     product qty  price      order date  \\\n",
       "0   236670            Wired Headphones   2  11.99  08/31/19 22:21   \n",
       "1   236671  Bose SoundSport Headphones   1  99.99  08/15/19 15:11   \n",
       "2   236672                      iPhone   1  700.0  08/06/19 14:40   \n",
       "3   236673       AA Batteries (4-pack)   2   3.84  08/29/19 20:59   \n",
       "4   236674       AA Batteries (4-pack)   2   3.84  08/15/19 19:53   \n",
       "\n",
       "                       purchase address  \n",
       "0      359 Spruce St, Seattle, WA 98101  \n",
       "1        492 Ridge St, Dallas, TX 75001  \n",
       "2        149 7th St, Portland, OR 97035  \n",
       "3     631 2nd St, Los Angeles, CA 90001  \n",
       "4  736 14th St, New York City, NY 10001  "
      ]
     },
     "execution_count": 260,
     "metadata": {},
     "output_type": "execute_result"
    }
   ],
   "source": [
    "clean.head()"
   ]
  },
  {
   "cell_type": "code",
   "execution_count": 261,
   "id": "e7f02fb3",
   "metadata": {},
   "outputs": [
    {
     "data": {
      "text/plain": [
       "array(['2', '1', '3', '4', 'Quantity Ordered', '6', '7', '5', '8', '9'],\n",
       "      dtype=object)"
      ]
     },
     "execution_count": 261,
     "metadata": {},
     "output_type": "execute_result"
    }
   ],
   "source": [
    "#check if there is non-numeric values\n",
    "clean['qty'].unique()"
   ]
  },
  {
   "cell_type": "code",
   "execution_count": 262,
   "id": "b33961cb",
   "metadata": {},
   "outputs": [
    {
     "data": {
      "text/html": [
       "<div>\n",
       "<style scoped>\n",
       "    .dataframe tbody tr th:only-of-type {\n",
       "        vertical-align: middle;\n",
       "    }\n",
       "\n",
       "    .dataframe tbody tr th {\n",
       "        vertical-align: top;\n",
       "    }\n",
       "\n",
       "    .dataframe thead th {\n",
       "        text-align: right;\n",
       "    }\n",
       "</style>\n",
       "<table border=\"1\" class=\"dataframe\">\n",
       "  <thead>\n",
       "    <tr style=\"text-align: right;\">\n",
       "      <th></th>\n",
       "      <th>order id</th>\n",
       "      <th>product</th>\n",
       "      <th>qty</th>\n",
       "      <th>price</th>\n",
       "      <th>order date</th>\n",
       "      <th>purchase address</th>\n",
       "    </tr>\n",
       "  </thead>\n",
       "  <tbody>\n",
       "    <tr>\n",
       "      <th>211</th>\n",
       "      <td>Order ID</td>\n",
       "      <td>Product</td>\n",
       "      <td>Quantity Ordered</td>\n",
       "      <td>Price Each</td>\n",
       "      <td>Order Date</td>\n",
       "      <td>Purchase Address</td>\n",
       "    </tr>\n",
       "  </tbody>\n",
       "</table>\n",
       "</div>"
      ],
      "text/plain": [
       "     order id  product               qty       price  order date  \\\n",
       "211  Order ID  Product  Quantity Ordered  Price Each  Order Date   \n",
       "\n",
       "     purchase address  \n",
       "211  Purchase Address  "
      ]
     },
     "execution_count": 262,
     "metadata": {},
     "output_type": "execute_result"
    }
   ],
   "source": [
    "#find out where are non-numeric values\n",
    "non_n = clean[clean['qty'] == 'Quantity Ordered']\n",
    "non_n.head()"
   ]
  },
  {
   "cell_type": "code",
   "execution_count": 263,
   "id": "b4276f97",
   "metadata": {},
   "outputs": [],
   "source": [
    "#drop it\n",
    "clean = clean.drop(index=211)"
   ]
  },
  {
   "cell_type": "code",
   "execution_count": 264,
   "id": "abc5dc3e",
   "metadata": {},
   "outputs": [
    {
     "name": "stdout",
     "output_type": "stream",
     "text": [
      "<class 'pandas.core.frame.DataFrame'>\n",
      "Int64Index: 185686 entries, 0 to 186849\n",
      "Data columns (total 6 columns):\n",
      " #   Column            Non-Null Count   Dtype \n",
      "---  ------            --------------   ----- \n",
      " 0   order id          185686 non-null  object\n",
      " 1   product           185686 non-null  object\n",
      " 2   qty               185686 non-null  object\n",
      " 3   price             185686 non-null  object\n",
      " 4   order date        185686 non-null  object\n",
      " 5   purchase address  185686 non-null  object\n",
      "dtypes: object(6)\n",
      "memory usage: 9.9+ MB\n"
     ]
    }
   ],
   "source": [
    "#after drop see dataset it's drop or not\n",
    "clean.info()"
   ]
  },
  {
   "cell_type": "markdown",
   "id": "a4961cbb",
   "metadata": {},
   "source": [
    "# <center> Data Preprocessing </center> "
   ]
  },
  {
   "cell_type": "code",
   "execution_count": 265,
   "id": "a9ff9fbd",
   "metadata": {},
   "outputs": [
    {
     "data": {
      "text/plain": [
       "order id            object\n",
       "product             object\n",
       "qty                 object\n",
       "price               object\n",
       "order date          object\n",
       "purchase address    object\n",
       "dtype: object"
      ]
     },
     "execution_count": 265,
     "metadata": {},
     "output_type": "execute_result"
    }
   ],
   "source": [
    "clean.dtypes"
   ]
  },
  {
   "cell_type": "markdown",
   "id": "99f15011",
   "metadata": {},
   "source": [
    "## Add Month, Hour, Minute,Total Sales, Cities Column"
   ]
  },
  {
   "cell_type": "code",
   "execution_count": 266,
   "id": "8a5f10f0",
   "metadata": {
    "scrolled": false
   },
   "outputs": [
    {
     "data": {
      "text/plain": [
       "0    2\n",
       "1    1\n",
       "2    1\n",
       "3    2\n",
       "4    2\n",
       "Name: qty, dtype: object"
      ]
     },
     "execution_count": 266,
     "metadata": {},
     "output_type": "execute_result"
    }
   ],
   "source": [
    "clean['qty'].head()"
   ]
  },
  {
   "cell_type": "code",
   "execution_count": 267,
   "id": "c5a42d96",
   "metadata": {},
   "outputs": [],
   "source": [
    "#typecasting \n",
    "clean['qty'] = clean['qty'].astype(int)\n",
    "clean['price'] = clean['price'].astype(float)\n",
    "clean['purchase address'] = clean['purchase address'].astype(str)"
   ]
  },
  {
   "cell_type": "code",
   "execution_count": 268,
   "id": "711fade9",
   "metadata": {},
   "outputs": [],
   "source": [
    "#add a column \"year\"\n",
    "clean['order date'] = pd.to_datetime(clean['order date'])\n",
    "clean['year'] = clean['order date'].dt.year"
   ]
  },
  {
   "cell_type": "code",
   "execution_count": 269,
   "id": "0456d490",
   "metadata": {},
   "outputs": [],
   "source": [
    "#extract Months from Order Date \n",
    "clean['order date'] = pd.to_datetime(clean['order date'], format='%m/%d/%y %H:%M')\n",
    "clean['month'] = pd.DatetimeIndex(clean['order date']).month"
   ]
  },
  {
   "cell_type": "code",
   "execution_count": 270,
   "id": "ea328539",
   "metadata": {},
   "outputs": [],
   "source": [
    "# add a column \"hour\"\n",
    "clean['hour'] = clean['order date'].dt.hour"
   ]
  },
  {
   "cell_type": "code",
   "execution_count": 271,
   "id": "424ec2d6",
   "metadata": {},
   "outputs": [],
   "source": [
    "# add a column \"minute\"\n",
    "clean['minute'] = clean['order date'].dt.minute"
   ]
  },
  {
   "cell_type": "code",
   "execution_count": 272,
   "id": "bf6fd010",
   "metadata": {},
   "outputs": [],
   "source": [
    "#add a column \"total sales\" \n",
    "clean['total sales'] = clean['qty']* clean['price']"
   ]
  },
  {
   "cell_type": "code",
   "execution_count": 273,
   "id": "b63e8456",
   "metadata": {},
   "outputs": [],
   "source": [
    "#extract State from Purchase Address\n",
    "def city(x):\n",
    "    return x.split(',')[1]\n",
    "\n",
    "clean['cities'] = clean['purchase address'].apply(city)"
   ]
  },
  {
   "cell_type": "code",
   "execution_count": 274,
   "id": "760a17e0",
   "metadata": {},
   "outputs": [],
   "source": [
    "clean['Type'] = ''\n",
    "clean['Type'] = np.where(clean['product'].str.contains(\"Cable\"), \"Cable\", clean['Type'])\n",
    "clean['Type'] = np.where(clean['product'].str.contains(\"Batteries\"), \"Batteries\", clean['Type'])\n",
    "clean['Type'] = np.where(clean['product'].str.contains(\"Phone\"), \"Phone\", clean['Type'])\n",
    "clean['Type'] = np.where(clean['product'].str.contains(\"phones\"), \"Headphones\", clean['Type'])\n",
    "clean['Type'] = np.where(clean['product'].str.contains(\"Monitor\"), \"Monitor/TV/Laptop\", clean['Type'])\n",
    "clean['Type'] = np.where(clean['product'].str.contains(\"TV\"), \"Monitor/TV/Laptop\", clean['Type'])\n",
    "clean['Type'] = np.where(clean['product'].str.contains(\"Laptop\"), \"Monitor/TV/Laptop\", clean['Type'])"
   ]
  },
  {
   "cell_type": "code",
   "execution_count": 275,
   "id": "4b10a711",
   "metadata": {},
   "outputs": [
    {
     "data": {
      "text/html": [
       "<div>\n",
       "<style scoped>\n",
       "    .dataframe tbody tr th:only-of-type {\n",
       "        vertical-align: middle;\n",
       "    }\n",
       "\n",
       "    .dataframe tbody tr th {\n",
       "        vertical-align: top;\n",
       "    }\n",
       "\n",
       "    .dataframe thead th {\n",
       "        text-align: right;\n",
       "    }\n",
       "</style>\n",
       "<table border=\"1\" class=\"dataframe\">\n",
       "  <thead>\n",
       "    <tr style=\"text-align: right;\">\n",
       "      <th></th>\n",
       "      <th>order id</th>\n",
       "      <th>product</th>\n",
       "      <th>qty</th>\n",
       "      <th>price</th>\n",
       "      <th>order date</th>\n",
       "      <th>purchase address</th>\n",
       "      <th>year</th>\n",
       "      <th>month</th>\n",
       "      <th>hour</th>\n",
       "      <th>minute</th>\n",
       "      <th>total sales</th>\n",
       "      <th>cities</th>\n",
       "      <th>Type</th>\n",
       "    </tr>\n",
       "  </thead>\n",
       "  <tbody>\n",
       "    <tr>\n",
       "      <th>0</th>\n",
       "      <td>236670</td>\n",
       "      <td>Wired Headphones</td>\n",
       "      <td>2</td>\n",
       "      <td>11.99</td>\n",
       "      <td>2019-08-31 22:21:00</td>\n",
       "      <td>359 Spruce St, Seattle, WA 98101</td>\n",
       "      <td>2019</td>\n",
       "      <td>8</td>\n",
       "      <td>22</td>\n",
       "      <td>21</td>\n",
       "      <td>23.98</td>\n",
       "      <td>Seattle</td>\n",
       "      <td>Headphones</td>\n",
       "    </tr>\n",
       "    <tr>\n",
       "      <th>1</th>\n",
       "      <td>236671</td>\n",
       "      <td>Bose SoundSport Headphones</td>\n",
       "      <td>1</td>\n",
       "      <td>99.99</td>\n",
       "      <td>2019-08-15 15:11:00</td>\n",
       "      <td>492 Ridge St, Dallas, TX 75001</td>\n",
       "      <td>2019</td>\n",
       "      <td>8</td>\n",
       "      <td>15</td>\n",
       "      <td>11</td>\n",
       "      <td>99.99</td>\n",
       "      <td>Dallas</td>\n",
       "      <td>Headphones</td>\n",
       "    </tr>\n",
       "    <tr>\n",
       "      <th>2</th>\n",
       "      <td>236672</td>\n",
       "      <td>iPhone</td>\n",
       "      <td>1</td>\n",
       "      <td>700.00</td>\n",
       "      <td>2019-08-06 14:40:00</td>\n",
       "      <td>149 7th St, Portland, OR 97035</td>\n",
       "      <td>2019</td>\n",
       "      <td>8</td>\n",
       "      <td>14</td>\n",
       "      <td>40</td>\n",
       "      <td>700.00</td>\n",
       "      <td>Portland</td>\n",
       "      <td>Phone</td>\n",
       "    </tr>\n",
       "    <tr>\n",
       "      <th>3</th>\n",
       "      <td>236673</td>\n",
       "      <td>AA Batteries (4-pack)</td>\n",
       "      <td>2</td>\n",
       "      <td>3.84</td>\n",
       "      <td>2019-08-29 20:59:00</td>\n",
       "      <td>631 2nd St, Los Angeles, CA 90001</td>\n",
       "      <td>2019</td>\n",
       "      <td>8</td>\n",
       "      <td>20</td>\n",
       "      <td>59</td>\n",
       "      <td>7.68</td>\n",
       "      <td>Los Angeles</td>\n",
       "      <td>Batteries</td>\n",
       "    </tr>\n",
       "    <tr>\n",
       "      <th>4</th>\n",
       "      <td>236674</td>\n",
       "      <td>AA Batteries (4-pack)</td>\n",
       "      <td>2</td>\n",
       "      <td>3.84</td>\n",
       "      <td>2019-08-15 19:53:00</td>\n",
       "      <td>736 14th St, New York City, NY 10001</td>\n",
       "      <td>2019</td>\n",
       "      <td>8</td>\n",
       "      <td>19</td>\n",
       "      <td>53</td>\n",
       "      <td>7.68</td>\n",
       "      <td>New York City</td>\n",
       "      <td>Batteries</td>\n",
       "    </tr>\n",
       "  </tbody>\n",
       "</table>\n",
       "</div>"
      ],
      "text/plain": [
       "  order id                     product  qty   price          order date  \\\n",
       "0   236670            Wired Headphones    2   11.99 2019-08-31 22:21:00   \n",
       "1   236671  Bose SoundSport Headphones    1   99.99 2019-08-15 15:11:00   \n",
       "2   236672                      iPhone    1  700.00 2019-08-06 14:40:00   \n",
       "3   236673       AA Batteries (4-pack)    2    3.84 2019-08-29 20:59:00   \n",
       "4   236674       AA Batteries (4-pack)    2    3.84 2019-08-15 19:53:00   \n",
       "\n",
       "                       purchase address  year  month  hour  minute  \\\n",
       "0      359 Spruce St, Seattle, WA 98101  2019      8    22      21   \n",
       "1        492 Ridge St, Dallas, TX 75001  2019      8    15      11   \n",
       "2        149 7th St, Portland, OR 97035  2019      8    14      40   \n",
       "3     631 2nd St, Los Angeles, CA 90001  2019      8    20      59   \n",
       "4  736 14th St, New York City, NY 10001  2019      8    19      53   \n",
       "\n",
       "   total sales          cities        Type  \n",
       "0        23.98         Seattle  Headphones  \n",
       "1        99.99          Dallas  Headphones  \n",
       "2       700.00        Portland       Phone  \n",
       "3         7.68     Los Angeles   Batteries  \n",
       "4         7.68   New York City   Batteries  "
      ]
     },
     "execution_count": 275,
     "metadata": {},
     "output_type": "execute_result"
    }
   ],
   "source": [
    "clean.head()"
   ]
  },
  {
   "cell_type": "code",
   "execution_count": 276,
   "id": "4e74bf15",
   "metadata": {
    "scrolled": true
   },
   "outputs": [
    {
     "data": {
      "text/html": [
       "<div>\n",
       "<style scoped>\n",
       "    .dataframe tbody tr th:only-of-type {\n",
       "        vertical-align: middle;\n",
       "    }\n",
       "\n",
       "    .dataframe tbody tr th {\n",
       "        vertical-align: top;\n",
       "    }\n",
       "\n",
       "    .dataframe thead th {\n",
       "        text-align: right;\n",
       "    }\n",
       "</style>\n",
       "<table border=\"1\" class=\"dataframe\">\n",
       "  <thead>\n",
       "    <tr style=\"text-align: right;\">\n",
       "      <th></th>\n",
       "      <th>order id</th>\n",
       "      <th>product</th>\n",
       "      <th>qty</th>\n",
       "      <th>price</th>\n",
       "      <th>order date</th>\n",
       "      <th>purchase address</th>\n",
       "      <th>year</th>\n",
       "      <th>month</th>\n",
       "      <th>hour</th>\n",
       "      <th>minute</th>\n",
       "      <th>total sales</th>\n",
       "      <th>cities</th>\n",
       "      <th>Type</th>\n",
       "    </tr>\n",
       "  </thead>\n",
       "  <tbody>\n",
       "    <tr>\n",
       "      <th>0</th>\n",
       "      <td>236670</td>\n",
       "      <td>Wired Headphones</td>\n",
       "      <td>2</td>\n",
       "      <td>11.99</td>\n",
       "      <td>2019-08-31 22:21:00</td>\n",
       "      <td>359 Spruce St, Seattle, WA 98101</td>\n",
       "      <td>2019</td>\n",
       "      <td>8</td>\n",
       "      <td>22</td>\n",
       "      <td>21</td>\n",
       "      <td>23.98</td>\n",
       "      <td>Seattle</td>\n",
       "      <td>Headphones</td>\n",
       "    </tr>\n",
       "    <tr>\n",
       "      <th>1</th>\n",
       "      <td>236671</td>\n",
       "      <td>Bose SoundSport Headphones</td>\n",
       "      <td>1</td>\n",
       "      <td>99.99</td>\n",
       "      <td>2019-08-15 15:11:00</td>\n",
       "      <td>492 Ridge St, Dallas, TX 75001</td>\n",
       "      <td>2019</td>\n",
       "      <td>8</td>\n",
       "      <td>15</td>\n",
       "      <td>11</td>\n",
       "      <td>99.99</td>\n",
       "      <td>Dallas</td>\n",
       "      <td>Headphones</td>\n",
       "    </tr>\n",
       "    <tr>\n",
       "      <th>2</th>\n",
       "      <td>236672</td>\n",
       "      <td>iPhone</td>\n",
       "      <td>1</td>\n",
       "      <td>700.00</td>\n",
       "      <td>2019-08-06 14:40:00</td>\n",
       "      <td>149 7th St, Portland, OR 97035</td>\n",
       "      <td>2019</td>\n",
       "      <td>8</td>\n",
       "      <td>14</td>\n",
       "      <td>40</td>\n",
       "      <td>700.00</td>\n",
       "      <td>Portland</td>\n",
       "      <td>Phone</td>\n",
       "    </tr>\n",
       "    <tr>\n",
       "      <th>3</th>\n",
       "      <td>236673</td>\n",
       "      <td>AA Batteries (4-pack)</td>\n",
       "      <td>2</td>\n",
       "      <td>3.84</td>\n",
       "      <td>2019-08-29 20:59:00</td>\n",
       "      <td>631 2nd St, Los Angeles, CA 90001</td>\n",
       "      <td>2019</td>\n",
       "      <td>8</td>\n",
       "      <td>20</td>\n",
       "      <td>59</td>\n",
       "      <td>7.68</td>\n",
       "      <td>Los Angeles</td>\n",
       "      <td>Batteries</td>\n",
       "    </tr>\n",
       "    <tr>\n",
       "      <th>4</th>\n",
       "      <td>236674</td>\n",
       "      <td>AA Batteries (4-pack)</td>\n",
       "      <td>2</td>\n",
       "      <td>3.84</td>\n",
       "      <td>2019-08-15 19:53:00</td>\n",
       "      <td>736 14th St, New York City, NY 10001</td>\n",
       "      <td>2019</td>\n",
       "      <td>8</td>\n",
       "      <td>19</td>\n",
       "      <td>53</td>\n",
       "      <td>7.68</td>\n",
       "      <td>New York City</td>\n",
       "      <td>Batteries</td>\n",
       "    </tr>\n",
       "    <tr>\n",
       "      <th>...</th>\n",
       "      <td>...</td>\n",
       "      <td>...</td>\n",
       "      <td>...</td>\n",
       "      <td>...</td>\n",
       "      <td>...</td>\n",
       "      <td>...</td>\n",
       "      <td>...</td>\n",
       "      <td>...</td>\n",
       "      <td>...</td>\n",
       "      <td>...</td>\n",
       "      <td>...</td>\n",
       "      <td>...</td>\n",
       "      <td>...</td>\n",
       "    </tr>\n",
       "    <tr>\n",
       "      <th>186845</th>\n",
       "      <td>319666</td>\n",
       "      <td>Lightning Charging Cable</td>\n",
       "      <td>1</td>\n",
       "      <td>14.95</td>\n",
       "      <td>2019-12-11 20:58:00</td>\n",
       "      <td>14 Madison St, San Francisco, CA 94016</td>\n",
       "      <td>2019</td>\n",
       "      <td>12</td>\n",
       "      <td>20</td>\n",
       "      <td>58</td>\n",
       "      <td>14.95</td>\n",
       "      <td>San Francisco</td>\n",
       "      <td>Cable</td>\n",
       "    </tr>\n",
       "    <tr>\n",
       "      <th>186846</th>\n",
       "      <td>319667</td>\n",
       "      <td>AA Batteries (4-pack)</td>\n",
       "      <td>2</td>\n",
       "      <td>3.84</td>\n",
       "      <td>2019-12-01 12:01:00</td>\n",
       "      <td>549 Willow St, Los Angeles, CA 90001</td>\n",
       "      <td>2019</td>\n",
       "      <td>12</td>\n",
       "      <td>12</td>\n",
       "      <td>1</td>\n",
       "      <td>7.68</td>\n",
       "      <td>Los Angeles</td>\n",
       "      <td>Batteries</td>\n",
       "    </tr>\n",
       "    <tr>\n",
       "      <th>186847</th>\n",
       "      <td>319668</td>\n",
       "      <td>Vareebadd Phone</td>\n",
       "      <td>1</td>\n",
       "      <td>400.00</td>\n",
       "      <td>2019-12-09 06:43:00</td>\n",
       "      <td>273 Wilson St, Seattle, WA 98101</td>\n",
       "      <td>2019</td>\n",
       "      <td>12</td>\n",
       "      <td>6</td>\n",
       "      <td>43</td>\n",
       "      <td>400.00</td>\n",
       "      <td>Seattle</td>\n",
       "      <td>Phone</td>\n",
       "    </tr>\n",
       "    <tr>\n",
       "      <th>186848</th>\n",
       "      <td>319669</td>\n",
       "      <td>Wired Headphones</td>\n",
       "      <td>1</td>\n",
       "      <td>11.99</td>\n",
       "      <td>2019-12-03 10:39:00</td>\n",
       "      <td>778 River St, Dallas, TX 75001</td>\n",
       "      <td>2019</td>\n",
       "      <td>12</td>\n",
       "      <td>10</td>\n",
       "      <td>39</td>\n",
       "      <td>11.99</td>\n",
       "      <td>Dallas</td>\n",
       "      <td>Headphones</td>\n",
       "    </tr>\n",
       "    <tr>\n",
       "      <th>186849</th>\n",
       "      <td>319670</td>\n",
       "      <td>Bose SoundSport Headphones</td>\n",
       "      <td>1</td>\n",
       "      <td>99.99</td>\n",
       "      <td>2019-12-21 21:45:00</td>\n",
       "      <td>747 Chestnut St, Los Angeles, CA 90001</td>\n",
       "      <td>2019</td>\n",
       "      <td>12</td>\n",
       "      <td>21</td>\n",
       "      <td>45</td>\n",
       "      <td>99.99</td>\n",
       "      <td>Los Angeles</td>\n",
       "      <td>Headphones</td>\n",
       "    </tr>\n",
       "  </tbody>\n",
       "</table>\n",
       "<p>185686 rows × 13 columns</p>\n",
       "</div>"
      ],
      "text/plain": [
       "       order id                     product  qty   price          order date  \\\n",
       "0        236670            Wired Headphones    2   11.99 2019-08-31 22:21:00   \n",
       "1        236671  Bose SoundSport Headphones    1   99.99 2019-08-15 15:11:00   \n",
       "2        236672                      iPhone    1  700.00 2019-08-06 14:40:00   \n",
       "3        236673       AA Batteries (4-pack)    2    3.84 2019-08-29 20:59:00   \n",
       "4        236674       AA Batteries (4-pack)    2    3.84 2019-08-15 19:53:00   \n",
       "...         ...                         ...  ...     ...                 ...   \n",
       "186845   319666    Lightning Charging Cable    1   14.95 2019-12-11 20:58:00   \n",
       "186846   319667       AA Batteries (4-pack)    2    3.84 2019-12-01 12:01:00   \n",
       "186847   319668             Vareebadd Phone    1  400.00 2019-12-09 06:43:00   \n",
       "186848   319669            Wired Headphones    1   11.99 2019-12-03 10:39:00   \n",
       "186849   319670  Bose SoundSport Headphones    1   99.99 2019-12-21 21:45:00   \n",
       "\n",
       "                              purchase address  year  month  hour  minute  \\\n",
       "0             359 Spruce St, Seattle, WA 98101  2019      8    22      21   \n",
       "1               492 Ridge St, Dallas, TX 75001  2019      8    15      11   \n",
       "2               149 7th St, Portland, OR 97035  2019      8    14      40   \n",
       "3            631 2nd St, Los Angeles, CA 90001  2019      8    20      59   \n",
       "4         736 14th St, New York City, NY 10001  2019      8    19      53   \n",
       "...                                        ...   ...    ...   ...     ...   \n",
       "186845  14 Madison St, San Francisco, CA 94016  2019     12    20      58   \n",
       "186846    549 Willow St, Los Angeles, CA 90001  2019     12    12       1   \n",
       "186847        273 Wilson St, Seattle, WA 98101  2019     12     6      43   \n",
       "186848          778 River St, Dallas, TX 75001  2019     12    10      39   \n",
       "186849  747 Chestnut St, Los Angeles, CA 90001  2019     12    21      45   \n",
       "\n",
       "        total sales          cities        Type  \n",
       "0             23.98         Seattle  Headphones  \n",
       "1             99.99          Dallas  Headphones  \n",
       "2            700.00        Portland       Phone  \n",
       "3              7.68     Los Angeles   Batteries  \n",
       "4              7.68   New York City   Batteries  \n",
       "...             ...             ...         ...  \n",
       "186845        14.95   San Francisco       Cable  \n",
       "186846         7.68     Los Angeles   Batteries  \n",
       "186847       400.00         Seattle       Phone  \n",
       "186848        11.99          Dallas  Headphones  \n",
       "186849        99.99     Los Angeles  Headphones  \n",
       "\n",
       "[185686 rows x 13 columns]"
      ]
     },
     "execution_count": 276,
     "metadata": {},
     "output_type": "execute_result"
    }
   ],
   "source": [
    "clean"
   ]
  },
  {
   "cell_type": "code",
   "execution_count": 277,
   "id": "f8717fb1",
   "metadata": {},
   "outputs": [
    {
     "data": {
      "text/plain": [
       "(185686, 13)"
      ]
     },
     "execution_count": 277,
     "metadata": {},
     "output_type": "execute_result"
    }
   ],
   "source": [
    "clean.shape"
   ]
  },
  {
   "cell_type": "markdown",
   "id": "4489acac",
   "metadata": {},
   "source": [
    "## <center>Ploting</center>"
   ]
  },
  {
   "cell_type": "code",
   "execution_count": 278,
   "id": "1074a7d7",
   "metadata": {},
   "outputs": [
    {
     "data": {
      "image/png": "[encoded data removed]",
      "text/plain": [
       "<Figure size 432x288 with 1 Axes>"
      ]
     },
     "metadata": {},
     "output_type": "display_data"
    }
   ],
   "source": [
    "monthlysales['total sales'] = monthlysales['total sales']/1000000\n",
    "df = pd.DataFrame(monthlysales)\n",
    "df.plot(kind='bar', x= 'month', y= 'total sales')\n",
    "plt.title(\"Monthy Revenue\")\n",
    "plt.ylabel('Revenue (millions)')\n",
    "plt.show()"
   ]
  },
  {
   "cell_type": "code",
   "execution_count": 279,
   "id": "c97c9c66",
   "metadata": {
    "scrolled": true
   },
   "outputs": [
    {
     "data": {
      "text/plain": [
       "(array([0.5, 1.5, 2.5, 3.5, 4.5, 5.5, 6.5]),\n",
       " [Text(0, 0.5, 'qty'),\n",
       "  Text(0, 1.5, 'price'),\n",
       "  Text(0, 2.5, 'year'),\n",
       "  Text(0, 3.5, 'month'),\n",
       "  Text(0, 4.5, 'hour'),\n",
       "  Text(0, 5.5, 'minute'),\n",
       "  Text(0, 6.5, 'total sales')])"
      ]
     },
     "execution_count": 279,
     "metadata": {},
     "output_type": "execute_result"
    },
    {
     "data": {
      "image/png": "[encoded data removed]",
      "text/plain": [
       "<Figure size 1728x1296 with 2 Axes>"
      ]
     },
     "metadata": {},
     "output_type": "display_data"
    }
   ],
   "source": [
    "#heatmap\n",
    "sns.set_style(\"whitegrid\") \n",
    "plt.figure(figsize=(24, 18))\n",
    "sns.heatmap(clean.corr(), annot=True)\n",
    "plt.title(\"Sales Data Correlation\", weight=\"bold\", fontsize=35, pad=30)\n",
    "plt.xticks(weight=\"bold\", fontsize=15)\n",
    "plt.yticks(weight=\"bold\", fontsize=15)"
   ]
  },
  {
   "cell_type": "code",
   "execution_count": 280,
   "id": "db55a324",
   "metadata": {},
   "outputs": [
    {
     "data": {
      "text/html": [
       "<div>\n",
       "<style scoped>\n",
       "    .dataframe tbody tr th:only-of-type {\n",
       "        vertical-align: middle;\n",
       "    }\n",
       "\n",
       "    .dataframe tbody tr th {\n",
       "        vertical-align: top;\n",
       "    }\n",
       "\n",
       "    .dataframe thead th {\n",
       "        text-align: right;\n",
       "    }\n",
       "</style>\n",
       "<table border=\"1\" class=\"dataframe\">\n",
       "  <thead>\n",
       "    <tr style=\"text-align: right;\">\n",
       "      <th></th>\n",
       "      <th>Type</th>\n",
       "      <th>qty</th>\n",
       "    </tr>\n",
       "  </thead>\n",
       "  <tbody>\n",
       "    <tr>\n",
       "      <th>0</th>\n",
       "      <td></td>\n",
       "      <td>1312</td>\n",
       "    </tr>\n",
       "    <tr>\n",
       "      <th>1</th>\n",
       "      <td>Batteries</td>\n",
       "      <td>58601</td>\n",
       "    </tr>\n",
       "    <tr>\n",
       "      <th>2</th>\n",
       "      <td>Cable</td>\n",
       "      <td>47100</td>\n",
       "    </tr>\n",
       "    <tr>\n",
       "      <th>3</th>\n",
       "      <td>Headphones</td>\n",
       "      <td>49591</td>\n",
       "    </tr>\n",
       "    <tr>\n",
       "      <th>4</th>\n",
       "      <td>Monitor/TV/Laptop</td>\n",
       "      <td>37764</td>\n",
       "    </tr>\n",
       "    <tr>\n",
       "      <th>5</th>\n",
       "      <td>Phone</td>\n",
       "      <td>14444</td>\n",
       "    </tr>\n",
       "  </tbody>\n",
       "</table>\n",
       "</div>"
      ],
      "text/plain": [
       "                Type    qty\n",
       "0                      1312\n",
       "1          Batteries  58601\n",
       "2              Cable  47100\n",
       "3         Headphones  49591\n",
       "4  Monitor/TV/Laptop  37764\n",
       "5              Phone  14444"
      ]
     },
     "execution_count": 280,
     "metadata": {},
     "output_type": "execute_result"
    }
   ],
   "source": [
    "dt1 = clean.groupby(['Type']).qty.sum().reset_index()\n",
    "dt1"
   ]
  },
  {
   "cell_type": "code",
   "execution_count": 281,
   "id": "ae39530e",
   "metadata": {},
   "outputs": [
    {
     "data": {
      "image/png": "[encoded data removed]",
      "text/plain": [
       "<Figure size 432x288 with 1 Axes>"
      ]
     },
     "metadata": {},
     "output_type": "display_data"
    }
   ],
   "source": [
    "# pie chart\n",
    "plt.pie(dt1['qty'], labels = dt1['Type'],autopct='%.0f%%')\n",
    "plt.show()"
   ]
  },
  {
   "cell_type": "code",
   "execution_count": 282,
   "id": "ce5f0ff8",
   "metadata": {},
   "outputs": [
    {
     "data": {
      "text/html": [
       "<div>\n",
       "<style scoped>\n",
       "    .dataframe tbody tr th:only-of-type {\n",
       "        vertical-align: middle;\n",
       "    }\n",
       "\n",
       "    .dataframe tbody tr th {\n",
       "        vertical-align: top;\n",
       "    }\n",
       "\n",
       "    .dataframe thead th {\n",
       "        text-align: right;\n",
       "    }\n",
       "</style>\n",
       "<table border=\"1\" class=\"dataframe\">\n",
       "  <thead>\n",
       "    <tr style=\"text-align: right;\">\n",
       "      <th></th>\n",
       "      <th>cities</th>\n",
       "      <th>Type</th>\n",
       "      <th>qty</th>\n",
       "    </tr>\n",
       "  </thead>\n",
       "  <tbody>\n",
       "    <tr>\n",
       "      <th>0</th>\n",
       "      <td>Atlanta</td>\n",
       "      <td></td>\n",
       "      <td>111</td>\n",
       "    </tr>\n",
       "    <tr>\n",
       "      <th>1</th>\n",
       "      <td>Atlanta</td>\n",
       "      <td>Batteries</td>\n",
       "      <td>4551</td>\n",
       "    </tr>\n",
       "    <tr>\n",
       "      <th>2</th>\n",
       "      <td>Atlanta</td>\n",
       "      <td>Cable</td>\n",
       "      <td>3786</td>\n",
       "    </tr>\n",
       "    <tr>\n",
       "      <th>3</th>\n",
       "      <td>Atlanta</td>\n",
       "      <td>Headphones</td>\n",
       "      <td>3924</td>\n",
       "    </tr>\n",
       "    <tr>\n",
       "      <th>4</th>\n",
       "      <td>Atlanta</td>\n",
       "      <td>Monitor/TV/Laptop</td>\n",
       "      <td>3044</td>\n",
       "    </tr>\n",
       "    <tr>\n",
       "      <th>5</th>\n",
       "      <td>Atlanta</td>\n",
       "      <td>Phone</td>\n",
       "      <td>1168</td>\n",
       "    </tr>\n",
       "    <tr>\n",
       "      <th>6</th>\n",
       "      <td>Austin</td>\n",
       "      <td></td>\n",
       "      <td>81</td>\n",
       "    </tr>\n",
       "    <tr>\n",
       "      <th>7</th>\n",
       "      <td>Austin</td>\n",
       "      <td>Batteries</td>\n",
       "      <td>3090</td>\n",
       "    </tr>\n",
       "    <tr>\n",
       "      <th>8</th>\n",
       "      <td>Austin</td>\n",
       "      <td>Cable</td>\n",
       "      <td>2554</td>\n",
       "    </tr>\n",
       "    <tr>\n",
       "      <th>9</th>\n",
       "      <td>Austin</td>\n",
       "      <td>Headphones</td>\n",
       "      <td>2718</td>\n",
       "    </tr>\n",
       "    <tr>\n",
       "      <th>10</th>\n",
       "      <td>Austin</td>\n",
       "      <td>Monitor/TV/Laptop</td>\n",
       "      <td>1935</td>\n",
       "    </tr>\n",
       "    <tr>\n",
       "      <th>11</th>\n",
       "      <td>Austin</td>\n",
       "      <td>Phone</td>\n",
       "      <td>759</td>\n",
       "    </tr>\n",
       "    <tr>\n",
       "      <th>12</th>\n",
       "      <td>Boston</td>\n",
       "      <td></td>\n",
       "      <td>131</td>\n",
       "    </tr>\n",
       "    <tr>\n",
       "      <th>13</th>\n",
       "      <td>Boston</td>\n",
       "      <td>Batteries</td>\n",
       "      <td>6469</td>\n",
       "    </tr>\n",
       "    <tr>\n",
       "      <th>14</th>\n",
       "      <td>Boston</td>\n",
       "      <td>Cable</td>\n",
       "      <td>5037</td>\n",
       "    </tr>\n",
       "    <tr>\n",
       "      <th>15</th>\n",
       "      <td>Boston</td>\n",
       "      <td>Headphones</td>\n",
       "      <td>5284</td>\n",
       "    </tr>\n",
       "    <tr>\n",
       "      <th>16</th>\n",
       "      <td>Boston</td>\n",
       "      <td>Monitor/TV/Laptop</td>\n",
       "      <td>4015</td>\n",
       "    </tr>\n",
       "    <tr>\n",
       "      <th>17</th>\n",
       "      <td>Boston</td>\n",
       "      <td>Phone</td>\n",
       "      <td>1558</td>\n",
       "    </tr>\n",
       "    <tr>\n",
       "      <th>18</th>\n",
       "      <td>Dallas</td>\n",
       "      <td></td>\n",
       "      <td>95</td>\n",
       "    </tr>\n",
       "    <tr>\n",
       "      <th>19</th>\n",
       "      <td>Dallas</td>\n",
       "      <td>Batteries</td>\n",
       "      <td>4760</td>\n",
       "    </tr>\n",
       "    <tr>\n",
       "      <th>20</th>\n",
       "      <td>Dallas</td>\n",
       "      <td>Cable</td>\n",
       "      <td>3711</td>\n",
       "    </tr>\n",
       "    <tr>\n",
       "      <th>21</th>\n",
       "      <td>Dallas</td>\n",
       "      <td>Headphones</td>\n",
       "      <td>3915</td>\n",
       "    </tr>\n",
       "    <tr>\n",
       "      <th>22</th>\n",
       "      <td>Dallas</td>\n",
       "      <td>Monitor/TV/Laptop</td>\n",
       "      <td>3068</td>\n",
       "    </tr>\n",
       "    <tr>\n",
       "      <th>23</th>\n",
       "      <td>Dallas</td>\n",
       "      <td>Phone</td>\n",
       "      <td>1158</td>\n",
       "    </tr>\n",
       "    <tr>\n",
       "      <th>24</th>\n",
       "      <td>Los Angeles</td>\n",
       "      <td></td>\n",
       "      <td>221</td>\n",
       "    </tr>\n",
       "    <tr>\n",
       "      <th>25</th>\n",
       "      <td>Los Angeles</td>\n",
       "      <td>Batteries</td>\n",
       "      <td>9392</td>\n",
       "    </tr>\n",
       "    <tr>\n",
       "      <th>26</th>\n",
       "      <td>Los Angeles</td>\n",
       "      <td>Cable</td>\n",
       "      <td>7541</td>\n",
       "    </tr>\n",
       "    <tr>\n",
       "      <th>27</th>\n",
       "      <td>Los Angeles</td>\n",
       "      <td>Headphones</td>\n",
       "      <td>7855</td>\n",
       "    </tr>\n",
       "    <tr>\n",
       "      <th>28</th>\n",
       "      <td>Los Angeles</td>\n",
       "      <td>Monitor/TV/Laptop</td>\n",
       "      <td>5955</td>\n",
       "    </tr>\n",
       "    <tr>\n",
       "      <th>29</th>\n",
       "      <td>Los Angeles</td>\n",
       "      <td>Phone</td>\n",
       "      <td>2283</td>\n",
       "    </tr>\n",
       "    <tr>\n",
       "      <th>30</th>\n",
       "      <td>New York City</td>\n",
       "      <td></td>\n",
       "      <td>162</td>\n",
       "    </tr>\n",
       "    <tr>\n",
       "      <th>31</th>\n",
       "      <td>New York City</td>\n",
       "      <td>Batteries</td>\n",
       "      <td>7748</td>\n",
       "    </tr>\n",
       "    <tr>\n",
       "      <th>32</th>\n",
       "      <td>New York City</td>\n",
       "      <td>Cable</td>\n",
       "      <td>6302</td>\n",
       "    </tr>\n",
       "    <tr>\n",
       "      <th>33</th>\n",
       "      <td>New York City</td>\n",
       "      <td>Headphones</td>\n",
       "      <td>6587</td>\n",
       "    </tr>\n",
       "    <tr>\n",
       "      <th>34</th>\n",
       "      <td>New York City</td>\n",
       "      <td>Monitor/TV/Laptop</td>\n",
       "      <td>5185</td>\n",
       "    </tr>\n",
       "    <tr>\n",
       "      <th>35</th>\n",
       "      <td>New York City</td>\n",
       "      <td>Phone</td>\n",
       "      <td>1919</td>\n",
       "    </tr>\n",
       "    <tr>\n",
       "      <th>36</th>\n",
       "      <td>Portland</td>\n",
       "      <td></td>\n",
       "      <td>74</td>\n",
       "    </tr>\n",
       "    <tr>\n",
       "      <th>37</th>\n",
       "      <td>Portland</td>\n",
       "      <td>Batteries</td>\n",
       "      <td>4017</td>\n",
       "    </tr>\n",
       "    <tr>\n",
       "      <th>38</th>\n",
       "      <td>Portland</td>\n",
       "      <td>Cable</td>\n",
       "      <td>3108</td>\n",
       "    </tr>\n",
       "    <tr>\n",
       "      <th>39</th>\n",
       "      <td>Portland</td>\n",
       "      <td>Headphones</td>\n",
       "      <td>3344</td>\n",
       "    </tr>\n",
       "    <tr>\n",
       "      <th>40</th>\n",
       "      <td>Portland</td>\n",
       "      <td>Monitor/TV/Laptop</td>\n",
       "      <td>2565</td>\n",
       "    </tr>\n",
       "    <tr>\n",
       "      <th>41</th>\n",
       "      <td>Portland</td>\n",
       "      <td>Phone</td>\n",
       "      <td>929</td>\n",
       "    </tr>\n",
       "    <tr>\n",
       "      <th>42</th>\n",
       "      <td>San Francisco</td>\n",
       "      <td></td>\n",
       "      <td>323</td>\n",
       "    </tr>\n",
       "    <tr>\n",
       "      <th>43</th>\n",
       "      <td>San Francisco</td>\n",
       "      <td>Batteries</td>\n",
       "      <td>13953</td>\n",
       "    </tr>\n",
       "    <tr>\n",
       "      <th>44</th>\n",
       "      <td>San Francisco</td>\n",
       "      <td>Cable</td>\n",
       "      <td>11423</td>\n",
       "    </tr>\n",
       "    <tr>\n",
       "      <th>45</th>\n",
       "      <td>San Francisco</td>\n",
       "      <td>Headphones</td>\n",
       "      <td>11997</td>\n",
       "    </tr>\n",
       "    <tr>\n",
       "      <th>46</th>\n",
       "      <td>San Francisco</td>\n",
       "      <td>Monitor/TV/Laptop</td>\n",
       "      <td>8962</td>\n",
       "    </tr>\n",
       "    <tr>\n",
       "      <th>47</th>\n",
       "      <td>San Francisco</td>\n",
       "      <td>Phone</td>\n",
       "      <td>3511</td>\n",
       "    </tr>\n",
       "    <tr>\n",
       "      <th>48</th>\n",
       "      <td>Seattle</td>\n",
       "      <td></td>\n",
       "      <td>114</td>\n",
       "    </tr>\n",
       "    <tr>\n",
       "      <th>49</th>\n",
       "      <td>Seattle</td>\n",
       "      <td>Batteries</td>\n",
       "      <td>4621</td>\n",
       "    </tr>\n",
       "    <tr>\n",
       "      <th>50</th>\n",
       "      <td>Seattle</td>\n",
       "      <td>Cable</td>\n",
       "      <td>3638</td>\n",
       "    </tr>\n",
       "    <tr>\n",
       "      <th>51</th>\n",
       "      <td>Seattle</td>\n",
       "      <td>Headphones</td>\n",
       "      <td>3967</td>\n",
       "    </tr>\n",
       "    <tr>\n",
       "      <th>52</th>\n",
       "      <td>Seattle</td>\n",
       "      <td>Monitor/TV/Laptop</td>\n",
       "      <td>3035</td>\n",
       "    </tr>\n",
       "    <tr>\n",
       "      <th>53</th>\n",
       "      <td>Seattle</td>\n",
       "      <td>Phone</td>\n",
       "      <td>1159</td>\n",
       "    </tr>\n",
       "  </tbody>\n",
       "</table>\n",
       "</div>"
      ],
      "text/plain": [
       "            cities               Type    qty\n",
       "0          Atlanta                       111\n",
       "1          Atlanta          Batteries   4551\n",
       "2          Atlanta              Cable   3786\n",
       "3          Atlanta         Headphones   3924\n",
       "4          Atlanta  Monitor/TV/Laptop   3044\n",
       "5          Atlanta              Phone   1168\n",
       "6           Austin                        81\n",
       "7           Austin          Batteries   3090\n",
       "8           Austin              Cable   2554\n",
       "9           Austin         Headphones   2718\n",
       "10          Austin  Monitor/TV/Laptop   1935\n",
       "11          Austin              Phone    759\n",
       "12          Boston                       131\n",
       "13          Boston          Batteries   6469\n",
       "14          Boston              Cable   5037\n",
       "15          Boston         Headphones   5284\n",
       "16          Boston  Monitor/TV/Laptop   4015\n",
       "17          Boston              Phone   1558\n",
       "18          Dallas                        95\n",
       "19          Dallas          Batteries   4760\n",
       "20          Dallas              Cable   3711\n",
       "21          Dallas         Headphones   3915\n",
       "22          Dallas  Monitor/TV/Laptop   3068\n",
       "23          Dallas              Phone   1158\n",
       "24     Los Angeles                       221\n",
       "25     Los Angeles          Batteries   9392\n",
       "26     Los Angeles              Cable   7541\n",
       "27     Los Angeles         Headphones   7855\n",
       "28     Los Angeles  Monitor/TV/Laptop   5955\n",
       "29     Los Angeles              Phone   2283\n",
       "30   New York City                       162\n",
       "31   New York City          Batteries   7748\n",
       "32   New York City              Cable   6302\n",
       "33   New York City         Headphones   6587\n",
       "34   New York City  Monitor/TV/Laptop   5185\n",
       "35   New York City              Phone   1919\n",
       "36        Portland                        74\n",
       "37        Portland          Batteries   4017\n",
       "38        Portland              Cable   3108\n",
       "39        Portland         Headphones   3344\n",
       "40        Portland  Monitor/TV/Laptop   2565\n",
       "41        Portland              Phone    929\n",
       "42   San Francisco                       323\n",
       "43   San Francisco          Batteries  13953\n",
       "44   San Francisco              Cable  11423\n",
       "45   San Francisco         Headphones  11997\n",
       "46   San Francisco  Monitor/TV/Laptop   8962\n",
       "47   San Francisco              Phone   3511\n",
       "48         Seattle                       114\n",
       "49         Seattle          Batteries   4621\n",
       "50         Seattle              Cable   3638\n",
       "51         Seattle         Headphones   3967\n",
       "52         Seattle  Monitor/TV/Laptop   3035\n",
       "53         Seattle              Phone   1159"
      ]
     },
     "execution_count": 282,
     "metadata": {},
     "output_type": "execute_result"
    }
   ],
   "source": [
    "dt2 = clean.groupby(['cities','Type'])['qty'].sum().reset_index()\n",
    "dt2"
   ]
  },
  {
   "cell_type": "code",
   "execution_count": 283,
   "id": "769322a8",
   "metadata": {},
   "outputs": [
    {
     "data": {
      "text/plain": [
       "<AxesSubplot:xlabel='cities', ylabel='qty'>"
      ]
     },
     "execution_count": 283,
     "metadata": {},
     "output_type": "execute_result"
    },
    {
     "data": {
      "image/png": "[encoded data removed]",
      "text/plain": [
       "<Figure size 432x288 with 1 Axes>"
      ]
     },
     "metadata": {},
     "output_type": "display_data"
    }
   ],
   "source": [
    "sns.barplot(data=dt2, x = \"cities\", y =\"qty\",hue='Type')"
   ]
  },
  {
   "cell_type": "markdown",
   "id": "10937d79",
   "metadata": {},
   "source": [
    "## <center> Data analysis </center>"
   ]
  },
  {
   "cell_type": "markdown",
   "id": "0889126e",
   "metadata": {},
   "source": [
    "### Total number of sales by months"
   ]
  },
  {
   "cell_type": "code",
   "execution_count": 287,
   "id": "e7cf3d25",
   "metadata": {},
   "outputs": [
    {
     "data": {
      "text/html": [
       "<div>\n",
       "<style scoped>\n",
       "    .dataframe tbody tr th:only-of-type {\n",
       "        vertical-align: middle;\n",
       "    }\n",
       "\n",
       "    .dataframe tbody tr th {\n",
       "        vertical-align: top;\n",
       "    }\n",
       "\n",
       "    .dataframe thead th {\n",
       "        text-align: right;\n",
       "    }\n",
       "</style>\n",
       "<table border=\"1\" class=\"dataframe\">\n",
       "  <thead>\n",
       "    <tr style=\"text-align: right;\">\n",
       "      <th></th>\n",
       "      <th>month</th>\n",
       "      <th>total sales</th>\n",
       "    </tr>\n",
       "  </thead>\n",
       "  <tbody>\n",
       "    <tr>\n",
       "      <th>0</th>\n",
       "      <td>1</td>\n",
       "      <td>1821413.16</td>\n",
       "    </tr>\n",
       "    <tr>\n",
       "      <th>1</th>\n",
       "      <td>2</td>\n",
       "      <td>2200078.08</td>\n",
       "    </tr>\n",
       "    <tr>\n",
       "      <th>2</th>\n",
       "      <td>3</td>\n",
       "      <td>2804973.35</td>\n",
       "    </tr>\n",
       "    <tr>\n",
       "      <th>3</th>\n",
       "      <td>4</td>\n",
       "      <td>3389217.98</td>\n",
       "    </tr>\n",
       "    <tr>\n",
       "      <th>4</th>\n",
       "      <td>5</td>\n",
       "      <td>3150616.23</td>\n",
       "    </tr>\n",
       "    <tr>\n",
       "      <th>5</th>\n",
       "      <td>6</td>\n",
       "      <td>2576280.15</td>\n",
       "    </tr>\n",
       "    <tr>\n",
       "      <th>6</th>\n",
       "      <td>7</td>\n",
       "      <td>2646461.32</td>\n",
       "    </tr>\n",
       "    <tr>\n",
       "      <th>7</th>\n",
       "      <td>8</td>\n",
       "      <td>2241083.37</td>\n",
       "    </tr>\n",
       "    <tr>\n",
       "      <th>8</th>\n",
       "      <td>9</td>\n",
       "      <td>2094465.69</td>\n",
       "    </tr>\n",
       "    <tr>\n",
       "      <th>9</th>\n",
       "      <td>10</td>\n",
       "      <td>3734777.86</td>\n",
       "    </tr>\n",
       "    <tr>\n",
       "      <th>10</th>\n",
       "      <td>11</td>\n",
       "      <td>3197875.05</td>\n",
       "    </tr>\n",
       "    <tr>\n",
       "      <th>11</th>\n",
       "      <td>12</td>\n",
       "      <td>4608295.70</td>\n",
       "    </tr>\n",
       "  </tbody>\n",
       "</table>\n",
       "</div>"
      ],
      "text/plain": [
       "    month  total sales\n",
       "0       1   1821413.16\n",
       "1       2   2200078.08\n",
       "2       3   2804973.35\n",
       "3       4   3389217.98\n",
       "4       5   3150616.23\n",
       "5       6   2576280.15\n",
       "6       7   2646461.32\n",
       "7       8   2241083.37\n",
       "8       9   2094465.69\n",
       "9      10   3734777.86\n",
       "10     11   3197875.05\n",
       "11     12   4608295.70"
      ]
     },
     "execution_count": 287,
     "metadata": {},
     "output_type": "execute_result"
    }
   ],
   "source": [
    "#Find the total number of sales by months\n",
    "\n",
    "monthly_sales = clean.groupby(['month'])['total sales'].sum().reset_index()\n",
    "\n",
    "monthly_sales"
   ]
  },
  {
   "cell_type": "code",
   "execution_count": 288,
   "id": "bef5fa28",
   "metadata": {},
   "outputs": [
    {
     "data": {
      "text/plain": [
       "Text(0, 0.5, 'Sales in USD')"
      ]
     },
     "execution_count": 288,
     "metadata": {},
     "output_type": "execute_result"
    },
    {
     "data": {
      "image/png": "[encoded data removed]",
      "text/plain": [
       "<Figure size 720x360 with 1 Axes>"
      ]
     },
     "metadata": {},
     "output_type": "display_data"
    }
   ],
   "source": [
    "#Visualisation\n",
    "\n",
    "plt.figure(figsize = (10,5))\n",
    "\n",
    "sns.barplot( \n",
    "    data = monthly_sales,\n",
    "    x = monthly_sales['month'], \n",
    "    y = monthly_sales['total sales'],\n",
    "    palette = 'pastel'\n",
    "    )\n",
    "\n",
    "plt.title('Total number of sales by months',fontsize = 15)\n",
    "plt.xlabel('Months',fontsize = 12)\n",
    "plt.ylabel('Sales in USD',fontsize = 12)"
   ]
  },
  {
   "cell_type": "markdown",
   "id": "3aef2614",
   "metadata": {},
   "source": [
    "### Trend in the monthly sales"
   ]
  },
  {
   "cell_type": "code",
   "execution_count": 289,
   "id": "f1ac4b84",
   "metadata": {},
   "outputs": [
    {
     "data": {
      "image/png": "[encoded data removed]",
      "text/plain": [
       "<Figure size 1080x360 with 1 Axes>"
      ]
     },
     "metadata": {},
     "output_type": "display_data"
    }
   ],
   "source": [
    "#Visualisation for trend in the monthly sales\n",
    "\n",
    "plt.figure(figsize = (15,5))\n",
    "\n",
    "sns.lineplot( \n",
    "    data = monthly_sales,\n",
    "    x = monthly_sales['month'], \n",
    "    y = monthly_sales['total sales']\n",
    "    )\n",
    "\n",
    "plt.xticks(ticks = monthly_sales['month'])\n",
    "plt.title('Trend in the monthly sales',fontsize = 15)\n",
    "plt.xlabel('Months',fontsize = 12)\n",
    "plt.ylabel('Sales in USD',fontsize = 12)\n",
    "plt.grid(True)"
   ]
  },
  {
   "cell_type": "markdown",
   "id": "b639ada1",
   "metadata": {},
   "source": [
    "### Trend in the hourly sales"
   ]
  },
  {
   "cell_type": "code",
   "execution_count": 290,
   "id": "59e69f9b",
   "metadata": {},
   "outputs": [
    {
     "data": {
      "text/html": [
       "<div>\n",
       "<style scoped>\n",
       "    .dataframe tbody tr th:only-of-type {\n",
       "        vertical-align: middle;\n",
       "    }\n",
       "\n",
       "    .dataframe tbody tr th {\n",
       "        vertical-align: top;\n",
       "    }\n",
       "\n",
       "    .dataframe thead th {\n",
       "        text-align: right;\n",
       "    }\n",
       "</style>\n",
       "<table border=\"1\" class=\"dataframe\">\n",
       "  <thead>\n",
       "    <tr style=\"text-align: right;\">\n",
       "      <th></th>\n",
       "      <th>hour</th>\n",
       "      <th>total sales</th>\n",
       "    </tr>\n",
       "  </thead>\n",
       "  <tbody>\n",
       "    <tr>\n",
       "      <th>0</th>\n",
       "      <td>0</td>\n",
       "      <td>713548.66</td>\n",
       "    </tr>\n",
       "    <tr>\n",
       "      <th>1</th>\n",
       "      <td>1</td>\n",
       "      <td>460563.90</td>\n",
       "    </tr>\n",
       "    <tr>\n",
       "      <th>2</th>\n",
       "      <td>2</td>\n",
       "      <td>234839.45</td>\n",
       "    </tr>\n",
       "    <tr>\n",
       "      <th>3</th>\n",
       "      <td>3</td>\n",
       "      <td>145742.94</td>\n",
       "    </tr>\n",
       "    <tr>\n",
       "      <th>4</th>\n",
       "      <td>4</td>\n",
       "      <td>162546.07</td>\n",
       "    </tr>\n",
       "    <tr>\n",
       "      <th>5</th>\n",
       "      <td>5</td>\n",
       "      <td>230664.87</td>\n",
       "    </tr>\n",
       "    <tr>\n",
       "      <th>6</th>\n",
       "      <td>6</td>\n",
       "      <td>447963.01</td>\n",
       "    </tr>\n",
       "    <tr>\n",
       "      <th>7</th>\n",
       "      <td>7</td>\n",
       "      <td>744067.32</td>\n",
       "    </tr>\n",
       "    <tr>\n",
       "      <th>8</th>\n",
       "      <td>8</td>\n",
       "      <td>1192309.20</td>\n",
       "    </tr>\n",
       "    <tr>\n",
       "      <th>9</th>\n",
       "      <td>9</td>\n",
       "      <td>1638784.04</td>\n",
       "    </tr>\n",
       "    <tr>\n",
       "      <th>10</th>\n",
       "      <td>10</td>\n",
       "      <td>1942988.08</td>\n",
       "    </tr>\n",
       "    <tr>\n",
       "      <th>11</th>\n",
       "      <td>11</td>\n",
       "      <td>2296619.84</td>\n",
       "    </tr>\n",
       "    <tr>\n",
       "      <th>12</th>\n",
       "      <td>12</td>\n",
       "      <td>2314359.85</td>\n",
       "    </tr>\n",
       "    <tr>\n",
       "      <th>13</th>\n",
       "      <td>13</td>\n",
       "      <td>2152369.98</td>\n",
       "    </tr>\n",
       "    <tr>\n",
       "      <th>14</th>\n",
       "      <td>14</td>\n",
       "      <td>2082513.70</td>\n",
       "    </tr>\n",
       "    <tr>\n",
       "      <th>15</th>\n",
       "      <td>15</td>\n",
       "      <td>1940623.20</td>\n",
       "    </tr>\n",
       "    <tr>\n",
       "      <th>16</th>\n",
       "      <td>16</td>\n",
       "      <td>1902523.20</td>\n",
       "    </tr>\n",
       "    <tr>\n",
       "      <th>17</th>\n",
       "      <td>17</td>\n",
       "      <td>2126553.97</td>\n",
       "    </tr>\n",
       "    <tr>\n",
       "      <th>18</th>\n",
       "      <td>18</td>\n",
       "      <td>2218374.01</td>\n",
       "    </tr>\n",
       "    <tr>\n",
       "      <th>19</th>\n",
       "      <td>19</td>\n",
       "      <td>2411971.14</td>\n",
       "    </tr>\n",
       "    <tr>\n",
       "      <th>20</th>\n",
       "      <td>20</td>\n",
       "      <td>2280784.36</td>\n",
       "    </tr>\n",
       "    <tr>\n",
       "      <th>21</th>\n",
       "      <td>21</td>\n",
       "      <td>2040790.48</td>\n",
       "    </tr>\n",
       "    <tr>\n",
       "      <th>22</th>\n",
       "      <td>22</td>\n",
       "      <td>1606243.85</td>\n",
       "    </tr>\n",
       "    <tr>\n",
       "      <th>23</th>\n",
       "      <td>23</td>\n",
       "      <td>1177792.82</td>\n",
       "    </tr>\n",
       "  </tbody>\n",
       "</table>\n",
       "</div>"
      ],
      "text/plain": [
       "    hour  total sales\n",
       "0      0    713548.66\n",
       "1      1    460563.90\n",
       "2      2    234839.45\n",
       "3      3    145742.94\n",
       "4      4    162546.07\n",
       "5      5    230664.87\n",
       "6      6    447963.01\n",
       "7      7    744067.32\n",
       "8      8   1192309.20\n",
       "9      9   1638784.04\n",
       "10    10   1942988.08\n",
       "11    11   2296619.84\n",
       "12    12   2314359.85\n",
       "13    13   2152369.98\n",
       "14    14   2082513.70\n",
       "15    15   1940623.20\n",
       "16    16   1902523.20\n",
       "17    17   2126553.97\n",
       "18    18   2218374.01\n",
       "19    19   2411971.14\n",
       "20    20   2280784.36\n",
       "21    21   2040790.48\n",
       "22    22   1606243.85\n",
       "23    23   1177792.82"
      ]
     },
     "execution_count": 290,
     "metadata": {},
     "output_type": "execute_result"
    }
   ],
   "source": [
    "#Find the total number of sales by hours\n",
    "\n",
    "hourly_sales = clean.groupby('hour')['total sales'].sum().reset_index()\n",
    "\n",
    "hourly_sales"
   ]
  },
  {
   "cell_type": "code",
   "execution_count": 291,
   "id": "df7cabdb",
   "metadata": {},
   "outputs": [
    {
     "data": {
      "image/png": "[encoded data removed]",
      "text/plain": [
       "<Figure size 720x360 with 1 Axes>"
      ]
     },
     "metadata": {},
     "output_type": "display_data"
    }
   ],
   "source": [
    "#Visualisation\n",
    "\n",
    "plt.figure(figsize = (10,5))\n",
    "\n",
    "sns.lineplot( \n",
    "    data = hourly_sales,\n",
    "    x = hourly_sales['hour'], \n",
    "    y = hourly_sales['total sales']\n",
    "    )\n",
    "\n",
    "plt.xticks(ticks = hourly_sales['hour'])\n",
    "plt.title('Trend in the hourly sales',fontsize = 15)\n",
    "plt.xlabel('Hours',fontsize = 12)\n",
    "plt.ylabel('Sales in USD',fontsize = 12)\n",
    "plt.grid(True)"
   ]
  },
  {
   "cell_type": "markdown",
   "id": "07954a7b",
   "metadata": {},
   "source": [
    "### Total number of sales by city"
   ]
  },
  {
   "cell_type": "code",
   "execution_count": 292,
   "id": "952fbab9",
   "metadata": {},
   "outputs": [
    {
     "data": {
      "text/html": [
       "<div>\n",
       "<style scoped>\n",
       "    .dataframe tbody tr th:only-of-type {\n",
       "        vertical-align: middle;\n",
       "    }\n",
       "\n",
       "    .dataframe tbody tr th {\n",
       "        vertical-align: top;\n",
       "    }\n",
       "\n",
       "    .dataframe thead th {\n",
       "        text-align: right;\n",
       "    }\n",
       "</style>\n",
       "<table border=\"1\" class=\"dataframe\">\n",
       "  <thead>\n",
       "    <tr style=\"text-align: right;\">\n",
       "      <th></th>\n",
       "      <th>cities</th>\n",
       "      <th>total sales</th>\n",
       "    </tr>\n",
       "  </thead>\n",
       "  <tbody>\n",
       "    <tr>\n",
       "      <th>0</th>\n",
       "      <td>San Francisco</td>\n",
       "      <td>8254743.55</td>\n",
       "    </tr>\n",
       "    <tr>\n",
       "      <th>1</th>\n",
       "      <td>Los Angeles</td>\n",
       "      <td>5448304.28</td>\n",
       "    </tr>\n",
       "    <tr>\n",
       "      <th>2</th>\n",
       "      <td>New York City</td>\n",
       "      <td>4661867.14</td>\n",
       "    </tr>\n",
       "    <tr>\n",
       "      <th>3</th>\n",
       "      <td>Boston</td>\n",
       "      <td>3658627.65</td>\n",
       "    </tr>\n",
       "    <tr>\n",
       "      <th>4</th>\n",
       "      <td>Atlanta</td>\n",
       "      <td>2794199.07</td>\n",
       "    </tr>\n",
       "    <tr>\n",
       "      <th>5</th>\n",
       "      <td>Dallas</td>\n",
       "      <td>2765373.96</td>\n",
       "    </tr>\n",
       "    <tr>\n",
       "      <th>6</th>\n",
       "      <td>Seattle</td>\n",
       "      <td>2745046.02</td>\n",
       "    </tr>\n",
       "    <tr>\n",
       "      <th>7</th>\n",
       "      <td>Portland</td>\n",
       "      <td>2319331.94</td>\n",
       "    </tr>\n",
       "    <tr>\n",
       "      <th>8</th>\n",
       "      <td>Austin</td>\n",
       "      <td>1818044.33</td>\n",
       "    </tr>\n",
       "  </tbody>\n",
       "</table>\n",
       "</div>"
      ],
      "text/plain": [
       "           cities  total sales\n",
       "0   San Francisco   8254743.55\n",
       "1     Los Angeles   5448304.28\n",
       "2   New York City   4661867.14\n",
       "3          Boston   3658627.65\n",
       "4         Atlanta   2794199.07\n",
       "5          Dallas   2765373.96\n",
       "6         Seattle   2745046.02\n",
       "7        Portland   2319331.94\n",
       "8          Austin   1818044.33"
      ]
     },
     "execution_count": 292,
     "metadata": {},
     "output_type": "execute_result"
    }
   ],
   "source": [
    "#Find the total sales by city\n",
    "\n",
    "city_sales = clean.groupby('cities')['total sales'].sum().sort_values(ascending = False).reset_index()\n",
    "\n",
    "city_sales"
   ]
  },
  {
   "cell_type": "code",
   "execution_count": 293,
   "id": "0a59fcf5",
   "metadata": {},
   "outputs": [
    {
     "data": {
      "text/plain": [
       "Text(0, 0.5, 'City')"
      ]
     },
     "execution_count": 293,
     "metadata": {},
     "output_type": "execute_result"
    },
    {
     "data": {
      "image/png": "[encoded data removed]",
      "text/plain": [
       "<Figure size 720x360 with 1 Axes>"
      ]
     },
     "metadata": {},
     "output_type": "display_data"
    }
   ],
   "source": [
    "#Visualisation\n",
    "\n",
    "plt.figure(figsize = (10,5))\n",
    "\n",
    "sns.barplot( \n",
    "    data = city_sales,\n",
    "    x = city_sales['total sales'], \n",
    "    y = city_sales['cities'], \n",
    "    palette = 'pastel'\n",
    "    )\n",
    "\n",
    "plt.title('Total number of sales by city',fontsize = 20)\n",
    "plt.xlabel('Sales in USD',fontsize = 15)\n",
    "plt.ylabel('City',fontsize = 15)"
   ]
  },
  {
   "cell_type": "markdown",
   "id": "da380a07",
   "metadata": {},
   "source": [
    "### Best Selling Products"
   ]
  },
  {
   "cell_type": "code",
   "execution_count": 294,
   "id": "21681e5e",
   "metadata": {},
   "outputs": [
    {
     "data": {
      "text/html": [
       "<div>\n",
       "<style scoped>\n",
       "    .dataframe tbody tr th:only-of-type {\n",
       "        vertical-align: middle;\n",
       "    }\n",
       "\n",
       "    .dataframe tbody tr th {\n",
       "        vertical-align: top;\n",
       "    }\n",
       "\n",
       "    .dataframe thead th {\n",
       "        text-align: right;\n",
       "    }\n",
       "</style>\n",
       "<table border=\"1\" class=\"dataframe\">\n",
       "  <thead>\n",
       "    <tr style=\"text-align: right;\">\n",
       "      <th></th>\n",
       "      <th>product</th>\n",
       "      <th>qty</th>\n",
       "    </tr>\n",
       "  </thead>\n",
       "  <tbody>\n",
       "    <tr>\n",
       "      <th>0</th>\n",
       "      <td>USB-C Charging Cable</td>\n",
       "      <td>21859</td>\n",
       "    </tr>\n",
       "    <tr>\n",
       "      <th>1</th>\n",
       "      <td>Lightning Charging Cable</td>\n",
       "      <td>21610</td>\n",
       "    </tr>\n",
       "    <tr>\n",
       "      <th>2</th>\n",
       "      <td>AAA Batteries (4-pack)</td>\n",
       "      <td>20612</td>\n",
       "    </tr>\n",
       "    <tr>\n",
       "      <th>3</th>\n",
       "      <td>AA Batteries (4-pack)</td>\n",
       "      <td>20558</td>\n",
       "    </tr>\n",
       "    <tr>\n",
       "      <th>4</th>\n",
       "      <td>Wired Headphones</td>\n",
       "      <td>18849</td>\n",
       "    </tr>\n",
       "    <tr>\n",
       "      <th>5</th>\n",
       "      <td>Apple Airpods Headphones</td>\n",
       "      <td>15525</td>\n",
       "    </tr>\n",
       "    <tr>\n",
       "      <th>6</th>\n",
       "      <td>Bose SoundSport Headphones</td>\n",
       "      <td>13298</td>\n",
       "    </tr>\n",
       "    <tr>\n",
       "      <th>7</th>\n",
       "      <td>27in FHD Monitor</td>\n",
       "      <td>7498</td>\n",
       "    </tr>\n",
       "    <tr>\n",
       "      <th>8</th>\n",
       "      <td>iPhone</td>\n",
       "      <td>6840</td>\n",
       "    </tr>\n",
       "    <tr>\n",
       "      <th>9</th>\n",
       "      <td>27in 4K Gaming Monitor</td>\n",
       "      <td>6225</td>\n",
       "    </tr>\n",
       "  </tbody>\n",
       "</table>\n",
       "</div>"
      ],
      "text/plain": [
       "                      product    qty\n",
       "0        USB-C Charging Cable  21859\n",
       "1    Lightning Charging Cable  21610\n",
       "2      AAA Batteries (4-pack)  20612\n",
       "3       AA Batteries (4-pack)  20558\n",
       "4            Wired Headphones  18849\n",
       "5    Apple Airpods Headphones  15525\n",
       "6  Bose SoundSport Headphones  13298\n",
       "7            27in FHD Monitor   7498\n",
       "8                      iPhone   6840\n",
       "9      27in 4K Gaming Monitor   6225"
      ]
     },
     "execution_count": 294,
     "metadata": {},
     "output_type": "execute_result"
    }
   ],
   "source": [
    "#Find the Quantity ordered of each product\n",
    "\n",
    "product_order = clean.groupby('product')['qty'].count().sort_values(ascending = False)[:10].reset_index()\n",
    "\n",
    "product_order"
   ]
  },
  {
   "cell_type": "code",
   "execution_count": 295,
   "id": "648f6d3d",
   "metadata": {},
   "outputs": [
    {
     "data": {
      "text/plain": [
       "Text(0, 0.5, 'Products')"
      ]
     },
     "execution_count": 295,
     "metadata": {},
     "output_type": "execute_result"
    },
    {
     "data": {
      "image/png": "[encoded data removed]",
      "text/plain": [
       "<Figure size 720x360 with 1 Axes>"
      ]
     },
     "metadata": {},
     "output_type": "display_data"
    }
   ],
   "source": [
    "#Visualisation\n",
    "\n",
    "plt.figure(figsize = (10,5))\n",
    "\n",
    "sns.barplot( \n",
    "    data = product_order,\n",
    "    x = product_order['qty'], \n",
    "    y = product_order['product'], \n",
    "    palette = 'pastel')\n",
    "\n",
    "plt.title('Top 10 best selling products',fontsize = 18)\n",
    "plt.xlabel('Total quantity ordered',fontsize = 14)\n",
    "plt.ylabel('Products',fontsize = 14)"
   ]
  },
  {
   "cell_type": "code",
   "execution_count": 284,
   "id": "7cc34b3b",
   "metadata": {},
   "outputs": [
    {
     "data": {
      "text/html": [
       "<div>\n",
       "<style scoped>\n",
       "    .dataframe tbody tr th:only-of-type {\n",
       "        vertical-align: middle;\n",
       "    }\n",
       "\n",
       "    .dataframe tbody tr th {\n",
       "        vertical-align: top;\n",
       "    }\n",
       "\n",
       "    .dataframe thead th {\n",
       "        text-align: right;\n",
       "    }\n",
       "</style>\n",
       "<table border=\"1\" class=\"dataframe\">\n",
       "  <thead>\n",
       "    <tr style=\"text-align: right;\">\n",
       "      <th></th>\n",
       "      <th>total sales</th>\n",
       "      <th>price</th>\n",
       "      <th>year</th>\n",
       "      <th>hour</th>\n",
       "      <th>minute</th>\n",
       "      <th>month</th>\n",
       "      <th>qty</th>\n",
       "    </tr>\n",
       "  </thead>\n",
       "  <tbody>\n",
       "    <tr>\n",
       "      <th>total sales</th>\n",
       "      <td>1.0</td>\n",
       "      <td>0.999202</td>\n",
       "      <td>0.00282</td>\n",
       "      <td>0.001683</td>\n",
       "      <td>-0.002245</td>\n",
       "      <td>-0.003454</td>\n",
       "      <td>-0.139564</td>\n",
       "    </tr>\n",
       "  </tbody>\n",
       "</table>\n",
       "</div>"
      ],
      "text/plain": [
       "             total sales     price     year      hour    minute     month  \\\n",
       "total sales          1.0  0.999202  0.00282  0.001683 -0.002245 -0.003454   \n",
       "\n",
       "                  qty  \n",
       "total sales -0.139564  "
      ]
     },
     "execution_count": 284,
     "metadata": {},
     "output_type": "execute_result"
    }
   ],
   "source": [
    "(clean.corr()['total sales'].sort_values(ascending=False).to_frame().T)"
   ]
  },
  {
   "cell_type": "code",
   "execution_count": 285,
   "id": "47655894",
   "metadata": {},
   "outputs": [
    {
     "data": {
      "text/html": [
       "<div>\n",
       "<style scoped>\n",
       "    .dataframe tbody tr th:only-of-type {\n",
       "        vertical-align: middle;\n",
       "    }\n",
       "\n",
       "    .dataframe tbody tr th {\n",
       "        vertical-align: top;\n",
       "    }\n",
       "\n",
       "    .dataframe thead th {\n",
       "        text-align: right;\n",
       "    }\n",
       "</style>\n",
       "<table border=\"1\" class=\"dataframe\">\n",
       "  <thead>\n",
       "    <tr style=\"text-align: right;\">\n",
       "      <th></th>\n",
       "      <th>qty</th>\n",
       "      <th>price</th>\n",
       "      <th>year</th>\n",
       "      <th>month</th>\n",
       "      <th>hour</th>\n",
       "      <th>minute</th>\n",
       "      <th>total sales</th>\n",
       "    </tr>\n",
       "  </thead>\n",
       "  <tbody>\n",
       "    <tr>\n",
       "      <th>count</th>\n",
       "      <td>185686.000000</td>\n",
       "      <td>185686.000000</td>\n",
       "      <td>185686.000000</td>\n",
       "      <td>185686.000000</td>\n",
       "      <td>185686.000000</td>\n",
       "      <td>185686.000000</td>\n",
       "      <td>185686.000000</td>\n",
       "    </tr>\n",
       "    <tr>\n",
       "      <th>mean</th>\n",
       "      <td>1.124544</td>\n",
       "      <td>184.519255</td>\n",
       "      <td>2019.000183</td>\n",
       "      <td>7.058653</td>\n",
       "      <td>14.412934</td>\n",
       "      <td>29.480537</td>\n",
       "      <td>185.611936</td>\n",
       "    </tr>\n",
       "    <tr>\n",
       "      <th>std</th>\n",
       "      <td>0.443069</td>\n",
       "      <td>332.843838</td>\n",
       "      <td>0.013530</td>\n",
       "      <td>3.502932</td>\n",
       "      <td>5.423329</td>\n",
       "      <td>17.317681</td>\n",
       "      <td>333.032118</td>\n",
       "    </tr>\n",
       "    <tr>\n",
       "      <th>min</th>\n",
       "      <td>1.000000</td>\n",
       "      <td>2.990000</td>\n",
       "      <td>2019.000000</td>\n",
       "      <td>1.000000</td>\n",
       "      <td>0.000000</td>\n",
       "      <td>0.000000</td>\n",
       "      <td>2.990000</td>\n",
       "    </tr>\n",
       "    <tr>\n",
       "      <th>25%</th>\n",
       "      <td>1.000000</td>\n",
       "      <td>11.950000</td>\n",
       "      <td>2019.000000</td>\n",
       "      <td>4.000000</td>\n",
       "      <td>11.000000</td>\n",
       "      <td>14.000000</td>\n",
       "      <td>11.950000</td>\n",
       "    </tr>\n",
       "    <tr>\n",
       "      <th>50%</th>\n",
       "      <td>1.000000</td>\n",
       "      <td>14.950000</td>\n",
       "      <td>2019.000000</td>\n",
       "      <td>7.000000</td>\n",
       "      <td>15.000000</td>\n",
       "      <td>29.000000</td>\n",
       "      <td>14.950000</td>\n",
       "    </tr>\n",
       "    <tr>\n",
       "      <th>75%</th>\n",
       "      <td>1.000000</td>\n",
       "      <td>150.000000</td>\n",
       "      <td>2019.000000</td>\n",
       "      <td>10.000000</td>\n",
       "      <td>19.000000</td>\n",
       "      <td>45.000000</td>\n",
       "      <td>150.000000</td>\n",
       "    </tr>\n",
       "    <tr>\n",
       "      <th>max</th>\n",
       "      <td>9.000000</td>\n",
       "      <td>1700.000000</td>\n",
       "      <td>2020.000000</td>\n",
       "      <td>12.000000</td>\n",
       "      <td>23.000000</td>\n",
       "      <td>59.000000</td>\n",
       "      <td>3400.000000</td>\n",
       "    </tr>\n",
       "  </tbody>\n",
       "</table>\n",
       "</div>"
      ],
      "text/plain": [
       "                 qty          price           year          month  \\\n",
       "count  185686.000000  185686.000000  185686.000000  185686.000000   \n",
       "mean        1.124544     184.519255    2019.000183       7.058653   \n",
       "std         0.443069     332.843838       0.013530       3.502932   \n",
       "min         1.000000       2.990000    2019.000000       1.000000   \n",
       "25%         1.000000      11.950000    2019.000000       4.000000   \n",
       "50%         1.000000      14.950000    2019.000000       7.000000   \n",
       "75%         1.000000     150.000000    2019.000000      10.000000   \n",
       "max         9.000000    1700.000000    2020.000000      12.000000   \n",
       "\n",
       "                hour         minute    total sales  \n",
       "count  185686.000000  185686.000000  185686.000000  \n",
       "mean       14.412934      29.480537     185.611936  \n",
       "std         5.423329      17.317681     333.032118  \n",
       "min         0.000000       0.000000       2.990000  \n",
       "25%        11.000000      14.000000      11.950000  \n",
       "50%        15.000000      29.000000      14.950000  \n",
       "75%        19.000000      45.000000     150.000000  \n",
       "max        23.000000      59.000000    3400.000000  "
      ]
     },
     "execution_count": 285,
     "metadata": {},
     "output_type": "execute_result"
    }
   ],
   "source": [
    "sales_data_numeric = clean.describe(include=[np.number]) \n",
    "\"Statistical Measure of Sales Data in Numeric Data\"\n",
    "sales_data_numeric"
   ]
  },
  {
   "cell_type": "code",
   "execution_count": 286,
   "id": "53f5d30c",
   "metadata": {
    "scrolled": true
   },
   "outputs": [
    {
     "data": {
      "text/html": [
       "<div>\n",
       "<style scoped>\n",
       "    .dataframe tbody tr th:only-of-type {\n",
       "        vertical-align: middle;\n",
       "    }\n",
       "\n",
       "    .dataframe tbody tr th {\n",
       "        vertical-align: top;\n",
       "    }\n",
       "\n",
       "    .dataframe thead th {\n",
       "        text-align: right;\n",
       "    }\n",
       "</style>\n",
       "<table border=\"1\" class=\"dataframe\">\n",
       "  <thead>\n",
       "    <tr style=\"text-align: right;\">\n",
       "      <th></th>\n",
       "      <th>order id</th>\n",
       "      <th>product</th>\n",
       "      <th>order date</th>\n",
       "      <th>purchase address</th>\n",
       "      <th>cities</th>\n",
       "      <th>Type</th>\n",
       "    </tr>\n",
       "  </thead>\n",
       "  <tbody>\n",
       "    <tr>\n",
       "      <th>count</th>\n",
       "      <td>185686</td>\n",
       "      <td>185686</td>\n",
       "      <td>185686</td>\n",
       "      <td>185686</td>\n",
       "      <td>185686</td>\n",
       "      <td>185686</td>\n",
       "    </tr>\n",
       "    <tr>\n",
       "      <th>unique</th>\n",
       "      <td>178437</td>\n",
       "      <td>19</td>\n",
       "      <td>142395</td>\n",
       "      <td>140787</td>\n",
       "      <td>9</td>\n",
       "      <td>6</td>\n",
       "    </tr>\n",
       "    <tr>\n",
       "      <th>top</th>\n",
       "      <td>160873</td>\n",
       "      <td>USB-C Charging Cable</td>\n",
       "      <td>2019-12-15 20:16:00</td>\n",
       "      <td>193 Forest St, San Francisco, CA 94016</td>\n",
       "      <td>San Francisco</td>\n",
       "      <td>Headphones</td>\n",
       "    </tr>\n",
       "    <tr>\n",
       "      <th>freq</th>\n",
       "      <td>5</td>\n",
       "      <td>21859</td>\n",
       "      <td>8</td>\n",
       "      <td>9</td>\n",
       "      <td>44662</td>\n",
       "      <td>47672</td>\n",
       "    </tr>\n",
       "    <tr>\n",
       "      <th>first</th>\n",
       "      <td>NaN</td>\n",
       "      <td>NaN</td>\n",
       "      <td>2019-01-01 03:07:00</td>\n",
       "      <td>NaN</td>\n",
       "      <td>NaN</td>\n",
       "      <td>NaN</td>\n",
       "    </tr>\n",
       "    <tr>\n",
       "      <th>last</th>\n",
       "      <td>NaN</td>\n",
       "      <td>NaN</td>\n",
       "      <td>2020-01-01 05:13:00</td>\n",
       "      <td>NaN</td>\n",
       "      <td>NaN</td>\n",
       "      <td>NaN</td>\n",
       "    </tr>\n",
       "  </tbody>\n",
       "</table>\n",
       "</div>"
      ],
      "text/plain": [
       "       order id               product           order date  \\\n",
       "count    185686                185686               185686   \n",
       "unique   178437                    19               142395   \n",
       "top      160873  USB-C Charging Cable  2019-12-15 20:16:00   \n",
       "freq          5                 21859                    8   \n",
       "first       NaN                   NaN  2019-01-01 03:07:00   \n",
       "last        NaN                   NaN  2020-01-01 05:13:00   \n",
       "\n",
       "                              purchase address          cities        Type  \n",
       "count                                   185686          185686      185686  \n",
       "unique                                  140787               9           6  \n",
       "top     193 Forest St, San Francisco, CA 94016   San Francisco  Headphones  \n",
       "freq                                         9           44662       47672  \n",
       "first                                      NaN             NaN         NaN  \n",
       "last                                       NaN             NaN         NaN  "
      ]
     },
     "execution_count": 286,
     "metadata": {},
     "output_type": "execute_result"
    }
   ],
   "source": [
    "# statistical measure of sales data without numeric type of data\n",
    "sales_data_object = clean.describe(exclude=[np.number])\n",
    "\"Statistical Measure of Sales Data in Object / Str Data\"\n",
    "sales_data_object"
   ]
  },
  {
   "cell_type": "markdown",
   "id": "05a5128f",
   "metadata": {},
   "source": [
    "#  <center> Univariate Analysis </center>"
   ]
  },
  {
   "cell_type": "code",
   "execution_count": 296,
   "id": "8fca77a6",
   "metadata": {},
   "outputs": [],
   "source": [
    "def univariate_analysis( data, color, title1, title2):\n",
    "    fig, (ax1, ax2) = plt.subplots( ncols=2, nrows=1, figsize=(20, 6))\n",
    "    # Distribution plot\n",
    "    sns.distplot( data, ax=ax1, kde=True, color=color)\n",
    "    ax1.set_title( title1, weight=\"bold\", fontsize=25,  pad=30 ) \n",
    "    # QQ plot\n",
    "    qqplot( data,  ax=ax2, line='s')   \n",
    "    ax2.set_title( title2,  weight=\"bold\",  fontsize=25, pad=30 )\n",
    "    \n",
    "    return fig # returning the figure"
   ]
  },
  {
   "cell_type": "code",
   "execution_count": 297,
   "id": "b171ce67",
   "metadata": {},
   "outputs": [
    {
     "data": {
      "image/png": "[encoded data removed]",
      "text/plain": [
       "<Figure size 1440x432 with 2 Axes>"
      ]
     },
     "metadata": {},
     "output_type": "display_data"
    }
   ],
   "source": [
    "# Quantity Ordered Data\n",
    "univariate_analysis(data=clean['qty'],color='red', title1='Quantity Ordered Data Distribution', title2='Quantile Plot');"
   ]
  },
  {
   "cell_type": "markdown",
   "id": "f4f1c2fd",
   "metadata": {},
   "source": [
    "## Price Each Data "
   ]
  },
  {
   "cell_type": "code",
   "execution_count": 298,
   "id": "44ff756a",
   "metadata": {},
   "outputs": [
    {
     "data": {
      "image/png": "[encoded data removed]",
      "text/plain": [
       "<Figure size 1440x432 with 2 Axes>"
      ]
     },
     "metadata": {},
     "output_type": "display_data"
    }
   ],
   "source": [
    "univariate_analysis(data=clean['price'], color='blue', title1='Price Each Data Distribution', title2='Quantile Plot' );"
   ]
  },
  {
   "cell_type": "markdown",
   "id": "d0c76e3a",
   "metadata": {},
   "source": [
    "## Total Sales Data"
   ]
  },
  {
   "cell_type": "code",
   "execution_count": 299,
   "id": "cd5482c1",
   "metadata": {},
   "outputs": [
    {
     "data": {
      "image/png": "[encoded data removed]",
      "text/plain": [
       "<Figure size 1440x432 with 2 Axes>"
      ]
     },
     "metadata": {},
     "output_type": "display_data"
    }
   ],
   "source": [
    "univariate_analysis( data=clean['total sales'], color='black', title1='Sales Data Distribution',title2='Quantile Plot' );"
   ]
  },
  {
   "cell_type": "markdown",
   "id": "a4b2f3db",
   "metadata": {},
   "source": [
    "## Checking skewness value"
   ]
  },
  {
   "cell_type": "code",
   "execution_count": 300,
   "id": "ba9d974f",
   "metadata": {},
   "outputs": [
    {
     "data": {
      "text/plain": [
       "year           73.881265\n",
       "qty             4.829811\n",
       "total sales     2.880376\n",
       "price           2.870605\n",
       "minute          0.002603\n",
       "order id        0.000965\n",
       "month          -0.088375\n",
       "hour           -0.530178\n",
       "dtype: float64"
      ]
     },
     "execution_count": 300,
     "metadata": {},
     "output_type": "execute_result"
    }
   ],
   "source": [
    "skew_value = clean.skew().sort_values(ascending=False)\n",
    "skew_value"
   ]
  },
  {
   "cell_type": "markdown",
   "id": "fd944500",
   "metadata": {},
   "source": [
    "## Find Some Questions."
   ]
  },
  {
   "cell_type": "markdown",
   "id": "fe547176",
   "metadata": {},
   "source": [
    "### What is the total number of sales in 2019?\n"
   ]
  },
  {
   "cell_type": "code",
   "execution_count": 301,
   "id": "aba44b76",
   "metadata": {},
   "outputs": [
    {
     "data": {
      "text/plain": [
       "order id\n",
       "141234    1\n",
       "141235    1\n",
       "141236    1\n",
       "141237    1\n",
       "141238    1\n",
       "         ..\n",
       "319666    1\n",
       "319667    1\n",
       "319668    1\n",
       "319669    1\n",
       "319670    1\n",
       "Name: order id, Length: 178437, dtype: int64"
      ]
     },
     "execution_count": 301,
     "metadata": {},
     "output_type": "execute_result"
    }
   ],
   "source": [
    "clean.groupby('order id')['order id'].count()"
   ]
  },
  {
   "cell_type": "markdown",
   "id": "b020244f",
   "metadata": {},
   "source": [
    "### What is the annual & monthly revenue in 2019?"
   ]
  },
  {
   "cell_type": "code",
   "execution_count": 302,
   "id": "ad81d6f9",
   "metadata": {},
   "outputs": [
    {
     "data": {
      "text/plain": [
       "34465537.94"
      ]
     },
     "execution_count": 302,
     "metadata": {},
     "output_type": "execute_result"
    }
   ],
   "source": [
    "#annual \n",
    "clean['total sales'].sum().round(2)"
   ]
  },
  {
   "cell_type": "code",
   "execution_count": 303,
   "id": "9bdf354a",
   "metadata": {},
   "outputs": [
    {
     "data": {
      "text/plain": [
       "month\n",
       "1     1821413.16\n",
       "2     2200078.08\n",
       "3     2804973.35\n",
       "4     3389217.98\n",
       "5     3150616.23\n",
       "6     2576280.15\n",
       "7     2646461.32\n",
       "8     2241083.37\n",
       "9     2094465.69\n",
       "10    3734777.86\n",
       "11    3197875.05\n",
       "12    4608295.70\n",
       "Name: total sales, dtype: float64"
      ]
     },
     "execution_count": 303,
     "metadata": {},
     "output_type": "execute_result"
    }
   ],
   "source": [
    "#monthly\n",
    "clean.groupby('month')['total sales'].sum()"
   ]
  },
  {
   "cell_type": "code",
   "execution_count": 304,
   "id": "07f2c54a",
   "metadata": {},
   "outputs": [
    {
     "data": {
      "text/html": [
       "<div>\n",
       "<style scoped>\n",
       "    .dataframe tbody tr th:only-of-type {\n",
       "        vertical-align: middle;\n",
       "    }\n",
       "\n",
       "    .dataframe tbody tr th {\n",
       "        vertical-align: top;\n",
       "    }\n",
       "\n",
       "    .dataframe thead th {\n",
       "        text-align: right;\n",
       "    }\n",
       "</style>\n",
       "<table border=\"1\" class=\"dataframe\">\n",
       "  <thead>\n",
       "    <tr style=\"text-align: right;\">\n",
       "      <th></th>\n",
       "      <th>month</th>\n",
       "      <th>total sales</th>\n",
       "    </tr>\n",
       "  </thead>\n",
       "  <tbody>\n",
       "    <tr>\n",
       "      <th>0</th>\n",
       "      <td>1</td>\n",
       "      <td>1821413.16</td>\n",
       "    </tr>\n",
       "    <tr>\n",
       "      <th>1</th>\n",
       "      <td>2</td>\n",
       "      <td>2200078.08</td>\n",
       "    </tr>\n",
       "    <tr>\n",
       "      <th>2</th>\n",
       "      <td>3</td>\n",
       "      <td>2804973.35</td>\n",
       "    </tr>\n",
       "    <tr>\n",
       "      <th>3</th>\n",
       "      <td>4</td>\n",
       "      <td>3389217.98</td>\n",
       "    </tr>\n",
       "    <tr>\n",
       "      <th>4</th>\n",
       "      <td>5</td>\n",
       "      <td>3150616.23</td>\n",
       "    </tr>\n",
       "    <tr>\n",
       "      <th>5</th>\n",
       "      <td>6</td>\n",
       "      <td>2576280.15</td>\n",
       "    </tr>\n",
       "    <tr>\n",
       "      <th>6</th>\n",
       "      <td>7</td>\n",
       "      <td>2646461.32</td>\n",
       "    </tr>\n",
       "    <tr>\n",
       "      <th>7</th>\n",
       "      <td>8</td>\n",
       "      <td>2241083.37</td>\n",
       "    </tr>\n",
       "    <tr>\n",
       "      <th>8</th>\n",
       "      <td>9</td>\n",
       "      <td>2094465.69</td>\n",
       "    </tr>\n",
       "    <tr>\n",
       "      <th>9</th>\n",
       "      <td>10</td>\n",
       "      <td>3734777.86</td>\n",
       "    </tr>\n",
       "    <tr>\n",
       "      <th>10</th>\n",
       "      <td>11</td>\n",
       "      <td>3197875.05</td>\n",
       "    </tr>\n",
       "    <tr>\n",
       "      <th>11</th>\n",
       "      <td>12</td>\n",
       "      <td>4608295.70</td>\n",
       "    </tr>\n",
       "  </tbody>\n",
       "</table>\n",
       "</div>"
      ],
      "text/plain": [
       "    month  total sales\n",
       "0       1   1821413.16\n",
       "1       2   2200078.08\n",
       "2       3   2804973.35\n",
       "3       4   3389217.98\n",
       "4       5   3150616.23\n",
       "5       6   2576280.15\n",
       "6       7   2646461.32\n",
       "7       8   2241083.37\n",
       "8       9   2094465.69\n",
       "9      10   3734777.86\n",
       "10     11   3197875.05\n",
       "11     12   4608295.70"
      ]
     },
     "execution_count": 304,
     "metadata": {},
     "output_type": "execute_result"
    }
   ],
   "source": [
    "monthlysales= clean.groupby('month')['total sales'].sum().reset_index()\n",
    "monthlysales"
   ]
  },
  {
   "cell_type": "markdown",
   "id": "693898b1",
   "metadata": {},
   "source": [
    "### Which market (state) generated the most sales on average? "
   ]
  },
  {
   "cell_type": "code",
   "execution_count": 305,
   "id": "e9ebf135",
   "metadata": {},
   "outputs": [
    {
     "data": {
      "text/plain": [
       "cities\n",
       " San Francisco    8254743.55\n",
       " Los Angeles      5448304.28\n",
       " New York City    4661867.14\n",
       " Boston           3658627.65\n",
       " Atlanta          2794199.07\n",
       " Dallas           2765373.96\n",
       " Seattle          2745046.02\n",
       " Portland         2319331.94\n",
       " Austin           1818044.33\n",
       "Name: total sales, dtype: float64"
      ]
     },
     "execution_count": 305,
     "metadata": {},
     "output_type": "execute_result"
    }
   ],
   "source": [
    "clean.groupby('cities')['total sales'].sum().sort_values(ascending=False)"
   ]
  },
  {
   "cell_type": "markdown",
   "id": "debc26e5",
   "metadata": {},
   "source": [
    "### When were the best- and worst-selling periods?"
   ]
  },
  {
   "cell_type": "code",
   "execution_count": 306,
   "id": "290768a2",
   "metadata": {},
   "outputs": [
    {
     "data": {
      "text/plain": [
       "month\n",
       "12    4608295.70\n",
       "10    3734777.86\n",
       "4     3389217.98\n",
       "11    3197875.05\n",
       "5     3150616.23\n",
       "3     2804973.35\n",
       "7     2646461.32\n",
       "6     2576280.15\n",
       "8     2241083.37\n",
       "2     2200078.08\n",
       "9     2094465.69\n",
       "1     1821413.16\n",
       "Name: total sales, dtype: float64"
      ]
     },
     "execution_count": 306,
     "metadata": {},
     "output_type": "execute_result"
    }
   ],
   "source": [
    "clean.groupby('month')['total sales'].sum().sort_values(ascending=False)"
   ]
  },
  {
   "cell_type": "markdown",
   "id": "822cda9b",
   "metadata": {},
   "source": [
    "### Which products sell best? "
   ]
  },
  {
   "cell_type": "code",
   "execution_count": 307,
   "id": "d483d79b",
   "metadata": {},
   "outputs": [
    {
     "data": {
      "text/plain": [
       "product\n",
       "USB-C Charging Cable          21859\n",
       "Lightning Charging Cable      21610\n",
       "AAA Batteries (4-pack)        20612\n",
       "AA Batteries (4-pack)         20558\n",
       "Wired Headphones              18849\n",
       "Apple Airpods Headphones      15525\n",
       "Bose SoundSport Headphones    13298\n",
       "27in FHD Monitor               7498\n",
       "iPhone                         6840\n",
       "27in 4K Gaming Monitor         6225\n",
       "34in Ultrawide Monitor         6174\n",
       "Google Phone                   5522\n",
       "Flatscreen TV                  4794\n",
       "Macbook Pro Laptop             4721\n",
       "ThinkPad Laptop                4126\n",
       "20in Monitor                   4098\n",
       "Vareebadd Phone                2065\n",
       "LG Washing Machine              666\n",
       "LG Dryer                        646\n",
       "Name: qty, dtype: int64"
      ]
     },
     "execution_count": 307,
     "metadata": {},
     "output_type": "execute_result"
    }
   ],
   "source": [
    "clean.groupby('product')['qty'].count().sort_values(ascending=False)"
   ]
  },
  {
   "cell_type": "markdown",
   "id": "9ff4c877",
   "metadata": {},
   "source": [
    "### What is the average number of items bought in each transaction?"
   ]
  },
  {
   "cell_type": "code",
   "execution_count": 308,
   "id": "d1dfdcd0",
   "metadata": {},
   "outputs": [
    {
     "data": {
      "text/plain": [
       "order id\n",
       "141234    1\n",
       "141235    1\n",
       "141236    1\n",
       "141237    1\n",
       "141238    1\n",
       "         ..\n",
       "319666    1\n",
       "319667    1\n",
       "319668    1\n",
       "319669    1\n",
       "319670    1\n",
       "Name: order id, Length: 178437, dtype: int64"
      ]
     },
     "execution_count": 308,
     "metadata": {},
     "output_type": "execute_result"
    }
   ],
   "source": [
    "clean.groupby('order id')['order id'].count() # here we get length of oreder id"
   ]
  },
  {
   "cell_type": "code",
   "execution_count": 309,
   "id": "57ddbf6a",
   "metadata": {},
   "outputs": [
    {
     "data": {
      "text/plain": [
       "1.170228147749626"
      ]
     },
     "execution_count": 309,
     "metadata": {},
     "output_type": "execute_result"
    }
   ],
   "source": [
    "#length = 178437\n",
    "clean['qty'].sum()/178437"
   ]
  },
  {
   "cell_type": "markdown",
   "id": "9a1e6d14",
   "metadata": {},
   "source": [
    "### What was the best Year for sales? How much was earned that Year?"
   ]
  },
  {
   "cell_type": "code",
   "execution_count": 310,
   "id": "603b9d76",
   "metadata": {},
   "outputs": [
    {
     "data": {
      "image/png": "[encoded data removed]",
      "text/plain": [
       "<Figure size 1728x720 with 1 Axes>"
      ]
     },
     "metadata": {},
     "output_type": "display_data"
    }
   ],
   "source": [
    "# let's plot it\n",
    "plt.figure(figsize=(24, 10)) # figuring the size\n",
    "\n",
    "# makes count plot \n",
    "sns.countplot(\n",
    "    x=\"year\", \n",
    "    data=clean\n",
    ")\n",
    "plt.title( # title\n",
    "    \"Year Sales and Much Earned in that Year\", \n",
    "    fontname=\"monospace\", # font-name\n",
    "    weight=\"bold\", # weiqht\n",
    "    fontsize=35, # font-size\n",
    "    pad=30 # padding\n",
    ")\n",
    "plt.xlabel( # x-label\n",
    "    \"Years\", \n",
    "    weight=\"bold\", # weight\n",
    "    color=\"purple\", # color\n",
    "    fontsize=25, # font-size\n",
    "    loc=\"center\" # location\n",
    ")\n",
    "plt.xticks( # x-ticks\n",
    "    weight=\"bold\", # weight\n",
    "    fontsize=15 # font-size\n",
    ")\n",
    "plt.ylabel( # y-label\n",
    "    \"Sales in USD ($)\", \n",
    "    weight=\"bold\", # weight\n",
    "    color=\"green\", # color\n",
    "    fontsize=20 # font-size\n",
    ")\n",
    "plt.yticks( # y-ticks\n",
    "    weight=\"bold\", # weight \n",
    "    fontsize=15 # font-size\n",
    ");"
   ]
  },
  {
   "cell_type": "markdown",
   "id": "256dc98c",
   "metadata": {},
   "source": [
    "### What was the best month for sales? How much was earned that month?"
   ]
  },
  {
   "cell_type": "code",
   "execution_count": 311,
   "id": "8f7685db",
   "metadata": {},
   "outputs": [
    {
     "data": {
      "image/png": "[encoded data removed]",
      "text/plain": [
       "<Figure size 1728x1008 with 1 Axes>"
      ]
     },
     "metadata": {},
     "output_type": "display_data"
    }
   ],
   "source": [
    "# group the Month cols\n",
    "sum_of_month_and_earned = clean.groupby('month').sum().astype('int')\n",
    "\n",
    "# let's plot it\n",
    "plt.figure(figsize=(24, 14)) # figuring the size\n",
    "\n",
    "# makes bar plot \n",
    "sns.barplot( # barplot\n",
    "    x=sum_of_month_and_earned.index, # x-axis\n",
    "    y=sum_of_month_and_earned[\"total sales\"], # y-axis\n",
    "    data=sum_of_month_and_earned, # data\n",
    "    palette=\"deep\" # palette\n",
    ")\n",
    "plt.title( # title\n",
    "    \"Month Sales and Much Earned in that Months\", \n",
    "    fontname=\"monospace\", # font-name\n",
    "    weight=\"bold\", # weight\n",
    "    fontsize=35, # font-size\n",
    "    pad=30 # padding\n",
    ")\n",
    "plt.xlabel( # x-label\n",
    "    \"Months\", \n",
    "    weight=\"bold\", # weight\n",
    "    color=\"purple\", # color\n",
    "    fontsize=25, # font-size\n",
    "    loc=\"center\" # location\n",
    ")\n",
    "plt.xticks( # x-ticks\n",
    "    weight=\"bold\", # weight\n",
    "    fontsize=15 # font-size\n",
    ")\n",
    "plt.ylabel( # y-label\n",
    "    \"Sales in USD ($)\", \n",
    "    weight=\"bold\", # weight\n",
    "    color=\"green\", # color\n",
    "    fontsize=20 # font-size\n",
    ")\n",
    "plt.yticks( # y-ticks\n",
    "    weight=\"bold\", # weight \n",
    "    fontsize=15 # font-size\n",
    ");"
   ]
  },
  {
   "cell_type": "markdown",
   "id": "0ff8fa52",
   "metadata": {},
   "source": [
    "### What City had the highest number of sales?"
   ]
  },
  {
   "cell_type": "code",
   "execution_count": 312,
   "id": "545dfbc7",
   "metadata": {},
   "outputs": [
    {
     "data": {
      "image/png": "[encoded data removed]",
      "text/plain": [
       "<Figure size 1728x1008 with 1 Axes>"
      ]
     },
     "metadata": {},
     "output_type": "display_data"
    }
   ],
   "source": [
    "# group of the highest number of sales in city\n",
    "highest_number_of_sales = clean.groupby('cities').sum().astype('int')\n",
    "\n",
    "# let's plot it\n",
    "plt.figure(figsize=(24, 14)) # figuring the size\n",
    "\n",
    "# makes bar plot \n",
    "sns.barplot( # barplot\n",
    "    x=highest_number_of_sales.index, # x-axis\n",
    "    y=highest_number_of_sales[\"total sales\"], # y-axis\n",
    "    data=highest_number_of_sales, # data\n",
    "    palette=\"deep\" # palette\n",
    ")\n",
    "plt.title( # title\n",
    "    \"City with the Highest number of Sales\", \n",
    "    fontname=\"monospace\", # font-name\n",
    "    weight=\"bold\", # weight\n",
    "    fontsize=35, # font-size\n",
    "    pad=30 # padding\n",
    ")\n",
    "plt.xlabel( # x-label\n",
    "    \"Cities\", \n",
    "    weight=\"bold\", # weight\n",
    "    color=\"purple\", # color\n",
    "    fontsize=25, # font-size\n",
    "    loc=\"center\" # location\n",
    ")\n",
    "plt.xticks( # x-ticks\n",
    "    weight=\"bold\", # weight\n",
    "    fontsize=15, # font-size\n",
    "    rotation=10\n",
    ")\n",
    "plt.ylabel( # y-label\n",
    "    \"Sales in USD ($)\", \n",
    "    weight=\"bold\", # weight\n",
    "    color=\"green\", # color\n",
    "    fontsize=20 # font-size\n",
    ")\n",
    "plt.yticks( # y-ticks\n",
    "    weight=\"bold\", # weight \n",
    "    fontsize=15 # font-size\n",
    ");"
   ]
  },
  {
   "cell_type": "markdown",
   "id": "0d65cf01",
   "metadata": {},
   "source": [
    "### What time should we display adverstisement to maximize likelihood of customer's buying product?"
   ]
  },
  {
   "cell_type": "code",
   "execution_count": 313,
   "id": "a5df5667",
   "metadata": {},
   "outputs": [
    {
     "data": {
      "image/png": "[encoded data removed]",
      "text/plain": [
       "<Figure size 1728x720 with 1 Axes>"
      ]
     },
     "metadata": {},
     "output_type": "display_data"
    }
   ],
   "source": [
    "# let's prepare the value for the x-axis\n",
    "hourly_counts = clean.groupby('hour').count()\n",
    "\n",
    "hours = [hour1 for hour1,df in clean.groupby('hour')]\n",
    "\n",
    "#let's plot it\n",
    "plt.figure(figsize=(24, 10)) # figuring the size\n",
    "\n",
    "# makes bar plot \n",
    "plt.plot( # plot\n",
    "    hours, # x-axis\n",
    "    hourly_counts['qty'],\n",
    "    clean.groupby(['hour']).count() # data\n",
    ")\n",
    "\n",
    "# let's add grid\n",
    "plt.grid(True)\n",
    "plt.title( # title\n",
    "    \"What time should we display adverstisement to maximize likelihood of customer's buying product?\", \n",
    "    weight=\"bold\", # weight\n",
    "    fontsize=35, # font-size\n",
    "    pad=30\n",
    ")\n",
    "plt.xlabel( # x-label\n",
    "    \"Hours\", \n",
    "    weight=\"bold\", # weight\n",
    "    color=\"purple\", # color\n",
    "    fontsize=25, # font-size\n",
    "    loc=\"center\" # location\n",
    ")\n",
    "plt.xticks( # x-ticks\n",
    "    ticks=hours, # labels\n",
    "    weight=\"bold\", # weight\n",
    "    fontsize=15 # font-size\n",
    ")\n",
    "plt.ylabel( # y-label\n",
    "    \"Number of Orders\", \n",
    "    weight=\"bold\", # weight\n",
    "    color=\"black\", # color\n",
    "    fontsize=20 # font-size\n",
    ")\n",
    "plt.yticks( # y-ticks\n",
    "    weight=\"bold\", # weight \n",
    "    fontsize=15 # font-size\n",
    ");"
   ]
  },
  {
   "cell_type": "markdown",
   "id": "fcb5fe47",
   "metadata": {},
   "source": [
    "### What product sold the most? Why do you think it sold the most?"
   ]
  },
  {
   "cell_type": "code",
   "execution_count": 314,
   "id": "3438a530",
   "metadata": {},
   "outputs": [
    {
     "data": {
      "image/png": "[encoded data removed]",
      "text/plain": [
       "<Figure size 1728x1008 with 2 Axes>"
      ]
     },
     "metadata": {},
     "output_type": "display_data"
    }
   ],
   "source": [
    "# lets prepare the varables for the plotting\n",
    "# group the product\n",
    "product_group = clean.groupby('product')\n",
    "quantity_ordered = product_group.sum()['qty']\n",
    "prices = clean.groupby('product').mean()['price']\n",
    "products = [product for product, df in product_group]\n",
    "\"\"\"Visualization\"\"\"\n",
    "\n",
    "# let's make a subplots\n",
    "fig, ax1 = plt.subplots(figsize=(24, 14))\n",
    "ax2 = ax1.twinx()\n",
    "\n",
    "# AXES 1\n",
    "ax1.bar(products, quantity_ordered)\n",
    "ax1.set_title( # title\n",
    "    \"Product with the Price\",\n",
    "    weight=\"bold\", # weight\n",
    "    fontname=\"monospace\", # font-name\n",
    "    fontsize=35, # font-size\n",
    "    pad=30 # padding\n",
    ")\n",
    "ax1.set_xlabel( # x-label\n",
    "    \"Product Names\",\n",
    "    weight=\"bold\", # weight\n",
    "    fontsize=25, # font-size\n",
    "    color=\"black\" # color\n",
    ")\n",
    "ax1.set_ylabel( # y-label\n",
    "    \"Quantity Ordered\", \n",
    "    color=\"blue\", # color\n",
    "    fontsize=20, # font-size\n",
    "    weight=\"bold\" # weight\n",
    ")\n",
    "ax1.set_xticklabels( # x-ticks\n",
    "    products, # ticks\n",
    "    rotation=\"vertical\", # rotation \n",
    "    weight=\"bold\" # weight\n",
    ")\n",
    "\n",
    "# AXES 2\n",
    "ax2.plot( # plot\n",
    "    products, # x-axis\n",
    "    prices, # y-axis\n",
    "    \"r-\"\n",
    ")\n",
    "ax2.set_ylabel( # y-label\n",
    "    \"Price in USD ($)\", \n",
    "    color=\"green\", # color\n",
    "    fontsize=20, # font-size\n",
    "    weight=\"bold\" # weight\n",
    ");"
   ]
  },
  {
   "cell_type": "code",
   "execution_count": 315,
   "id": "a9153dca",
   "metadata": {},
   "outputs": [
    {
     "data": {
      "text/html": [
       "<div>\n",
       "<style scoped>\n",
       "    .dataframe tbody tr th:only-of-type {\n",
       "        vertical-align: middle;\n",
       "    }\n",
       "\n",
       "    .dataframe tbody tr th {\n",
       "        vertical-align: top;\n",
       "    }\n",
       "\n",
       "    .dataframe thead th {\n",
       "        text-align: right;\n",
       "    }\n",
       "</style>\n",
       "<table border=\"1\" class=\"dataframe\">\n",
       "  <thead>\n",
       "    <tr style=\"text-align: right;\">\n",
       "      <th></th>\n",
       "      <th>USB-C Charging Cable</th>\n",
       "      <th>Lightning Charging Cable</th>\n",
       "      <th>AAA Batteries (4-pack)</th>\n",
       "      <th>AA Batteries (4-pack)</th>\n",
       "      <th>Wired Headphones</th>\n",
       "      <th>Apple Airpods Headphones</th>\n",
       "      <th>Bose SoundSport Headphones</th>\n",
       "      <th>27in FHD Monitor</th>\n",
       "      <th>iPhone</th>\n",
       "      <th>27in 4K Gaming Monitor</th>\n",
       "      <th>34in Ultrawide Monitor</th>\n",
       "      <th>Google Phone</th>\n",
       "      <th>Flatscreen TV</th>\n",
       "      <th>Macbook Pro Laptop</th>\n",
       "      <th>ThinkPad Laptop</th>\n",
       "      <th>20in Monitor</th>\n",
       "      <th>Vareebadd Phone</th>\n",
       "      <th>LG Washing Machine</th>\n",
       "      <th>LG Dryer</th>\n",
       "    </tr>\n",
       "  </thead>\n",
       "  <tbody>\n",
       "    <tr>\n",
       "      <th>product</th>\n",
       "      <td>21859</td>\n",
       "      <td>21610</td>\n",
       "      <td>20612</td>\n",
       "      <td>20558</td>\n",
       "      <td>18849</td>\n",
       "      <td>15525</td>\n",
       "      <td>13298</td>\n",
       "      <td>7498</td>\n",
       "      <td>6840</td>\n",
       "      <td>6225</td>\n",
       "      <td>6174</td>\n",
       "      <td>5522</td>\n",
       "      <td>4794</td>\n",
       "      <td>4721</td>\n",
       "      <td>4126</td>\n",
       "      <td>4098</td>\n",
       "      <td>2065</td>\n",
       "      <td>666</td>\n",
       "      <td>646</td>\n",
       "    </tr>\n",
       "  </tbody>\n",
       "</table>\n",
       "</div>"
      ],
      "text/plain": [
       "         USB-C Charging Cable  Lightning Charging Cable  \\\n",
       "product                 21859                     21610   \n",
       "\n",
       "         AAA Batteries (4-pack)  AA Batteries (4-pack)  Wired Headphones  \\\n",
       "product                   20612                  20558             18849   \n",
       "\n",
       "         Apple Airpods Headphones  Bose SoundSport Headphones  \\\n",
       "product                     15525                       13298   \n",
       "\n",
       "         27in FHD Monitor  iPhone  27in 4K Gaming Monitor  \\\n",
       "product              7498    6840                    6225   \n",
       "\n",
       "         34in Ultrawide Monitor  Google Phone  Flatscreen TV  \\\n",
       "product                    6174          5522           4794   \n",
       "\n",
       "         Macbook Pro Laptop  ThinkPad Laptop  20in Monitor  Vareebadd Phone  \\\n",
       "product                4721             4126          4098             2065   \n",
       "\n",
       "         LG Washing Machine  LG Dryer  \n",
       "product                 666       646  "
      ]
     },
     "execution_count": 315,
     "metadata": {},
     "output_type": "execute_result"
    }
   ],
   "source": [
    "clean['product'].value_counts().to_frame().T"
   ]
  },
  {
   "cell_type": "markdown",
   "id": "6128a223",
   "metadata": {},
   "source": [
    "### How much probability for next people will order USB-C Charging Cable?"
   ]
  },
  {
   "cell_type": "code",
   "execution_count": 316,
   "id": "4be56375",
   "metadata": {},
   "outputs": [],
   "source": [
    "def statistical_probability(frequency, total_frequency):\n",
    "    return frequency / total_frequency\n",
    "\n",
    "product = clean['product'].value_counts().sum()"
   ]
  },
  {
   "cell_type": "code",
   "execution_count": 317,
   "id": "3fd744de",
   "metadata": {},
   "outputs": [
    {
     "name": "stdout",
     "output_type": "stream",
     "text": [
      "Probability for next people will order USB-C Charging Cable: 0.12%\n",
      "Probability for next people will not order USB-C Charging Cable: 0.88%\n"
     ]
    }
   ],
   "source": [
    "usb_charging = clean[clean['product'] == 'USB-C Charging Cable'].value_counts().sum()\n",
    "\n",
    "# Calculating USB-C Charging Probability\n",
    "P_USB = statistical_probability(usb_charging, product)\n",
    "Pprime_USB = 1 - P_USB\n",
    "print('Probability for next people will order USB-C Charging Cable: %.2f%%' % P_USB)\n",
    "print('Probability for next people will not order USB-C Charging Cable: %.2f%%' % Pprime_USB)"
   ]
  },
  {
   "cell_type": "markdown",
   "id": "af0c9712",
   "metadata": {},
   "source": [
    "### How much probability for next people will order iPhone?"
   ]
  },
  {
   "cell_type": "code",
   "execution_count": 318,
   "id": "f6415deb",
   "metadata": {},
   "outputs": [
    {
     "name": "stdout",
     "output_type": "stream",
     "text": [
      "Probability for next people will order iPhone: 0.04%\n",
      "Probability for next people will not order iPhone: 0.96%\n"
     ]
    }
   ],
   "source": [
    "iphone = clean[clean['product'] == 'iPhone'].value_counts().sum()\n",
    "\n",
    "# Calculating iPhone Probability\n",
    "P_iphone = statistical_probability(iphone, product)\n",
    "Pprime_iphone = 1 - P_iphone\n",
    "print('Probability for next people will order iPhone: %.2f%%' % P_iphone)\n",
    "print('Probability for next people will not order iPhone: %.2f%%' % Pprime_iphone)"
   ]
  },
  {
   "cell_type": "markdown",
   "id": "61386606",
   "metadata": {},
   "source": [
    "\n",
    "### How much probability for next people will order Google Phone?"
   ]
  },
  {
   "cell_type": "code",
   "execution_count": 319,
   "id": "8b15f206",
   "metadata": {},
   "outputs": [
    {
     "name": "stdout",
     "output_type": "stream",
     "text": [
      "Probability for next people will order Google Phone: 0.03%\n",
      "Probability for next people will not order Google Phone: 0.97%\n"
     ]
    }
   ],
   "source": [
    "google_phone = clean[clean['product'] == 'Google Phone'].value_counts().sum()\n",
    "\n",
    "# Calculating Google Phone Probability\n",
    "P_google_phone = statistical_probability(google_phone, product)\n",
    "Pprime_google_phone = 1 - P_google_phone\n",
    "print('Probability for next people will order Google Phone: %.2f%%' % P_google_phone)\n",
    "print('Probability for next people will not order Google Phone: %.2f%%' % Pprime_google_phone)"
   ]
  },
  {
   "cell_type": "code",
   "execution_count": null,
   "id": "1990362a",
   "metadata": {},
   "outputs": [],
   "source": []
  }
 ],
 "metadata": {
  "kernelspec": {
   "display_name": "Python 3 (ipykernel)",
   "language": "python",
   "name": "python3"
  },
  "language_info": {
   "codemirror_mode": {
    "name": "ipython",
    "version": 3
   },
   "file_extension": ".py",
   "mimetype": "text/x-python",
   "name": "python",
   "nbconvert_exporter": "python",
   "pygments_lexer": "ipython3",
   "version": "3.9.12"
  }
 },
 "nbformat": 4,
 "nbformat_minor": 5
}
